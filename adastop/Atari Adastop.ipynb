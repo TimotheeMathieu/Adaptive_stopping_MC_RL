{
 "cells": [
  {
   "cell_type": "code",
   "execution_count": 1,
   "id": "37ec3d7d-5a85-4a77-a353-17fc79e8368f",
   "metadata": {},
   "outputs": [],
   "source": [
    "import numpy as np\n",
    "import json\n",
    "import pandas as pd\n",
    "import pickle\n",
    "import seaborn as sns\n",
    "from rlberry.agents import Agent\n",
    "from rlberry.envs import Model\n",
    "import rlberry.spaces as spaces\n",
    "from compare_agents import MultipleAgentsComparator\n"
   ]
  },
  {
   "cell_type": "code",
   "execution_count": 23,
   "id": "e136f67a-a75e-4f68-9348-162ed9f7cbd6",
   "metadata": {},
   "outputs": [],
   "source": [
    "files = [\"~/deep_rl_logs/statistical_precipice/atari_100k/DER.json\",\n",
    "         \"~/deep_rl_logs/statistical_precipice/atari_100k/OTRainbow.json\",\n",
    "         \"~/deep_rl_logs/statistical_precipice/atari_100k/DrQ(eps).json\",\n",
    "         \"~/deep_rl_logs/statistical_precipice/atari_100k/SPR.json\",]"
   ]
  },
  {
   "cell_type": "code",
   "execution_count": 24,
   "id": "5b198170-8693-4c7b-bf80-e9b2626a20c4",
   "metadata": {},
   "outputs": [],
   "source": [
    "df_alien = pd.DataFrame()\n",
    "\n",
    "game = 'Breakout'\n",
    "for file in files:\n",
    "    with open(file, 'r') as f:\n",
    "        data = json.load(f)\n",
    "        df_alien[file.split('/')[-1].split('.')[0]] = data[game]\n"
   ]
  },
  {
   "cell_type": "code",
   "execution_count": 25,
   "id": "2499c7d6-b39c-4323-8caa-45b8db00e70e",
   "metadata": {},
   "outputs": [],
   "source": [
    "with open( \"~/deep_rl_logs/statistical_precipice/atari_100k/CURL/\"+game+\".json\", 'r') as f:\n",
    "    data = json.load(f)\n",
    "    data = [ d['eval_average_return'] for d in data]\n",
    "    df_alien['CURL'] = data"
   ]
  },
  {
   "cell_type": "code",
   "execution_count": null,
   "id": "36bd4817-c930-43f1-b0c1-884a53bf322a",
   "metadata": {},
   "outputs": [],
   "source": [
    "[array([2, 4]), array([1, 2]), array([0, 2]), array([3, 4]), array([1, 3]), \n",
    " array([0, 3]), array([0, 4])]\n"
   ]
  },
  {
   "cell_type": "code",
   "execution_count": 26,
   "id": "3fdb4810-b59f-44bd-bd59-793e42c2e6fd",
   "metadata": {},
   "outputs": [
    {
     "data": {
      "text/plain": [
       "<AxesSubplot:>"
      ]
     },
     "execution_count": 26,
     "metadata": {},
     "output_type": "execute_result"
    },
    {
     "data": {
      "image/png": "[encoded data removed]",
      "text/plain": [
       "<Figure size 432x288 with 1 Axes>"
      ]
     },
     "metadata": {
      "needs_background": "light"
     },
     "output_type": "display_data"
    }
   ],
   "source": [
    "sns.boxplot(df_alien)"
   ]
  },
  {
   "cell_type": "code",
   "execution_count": 27,
   "id": "b1fe2147-35ae-4c44-bf93-94738ad48c72",
   "metadata": {},
   "outputs": [],
   "source": [
    "n = 5\n",
    "K = 10\n",
    "\n",
    "B = 50000\n",
    "alpha = 0.1\n",
    "\n",
    "class MyMultipleAgentsComparator(MultipleAgentsComparator):\n",
    "     def _fit(self, managers, comparisons, Z,  k, seeders, clean_after):\n",
    "        \"\"\"\n",
    "        Redefine how the comparator get the evaluations\n",
    "        \"\"\"\n",
    "        for i in range(len(managers)):\n",
    "             if i in np.array(comparisons).ravel():\n",
    "                self.n_iters[i] += self.n\n",
    "                Z[i] = np.hstack([Z[i], df_alien.values[(k*self.n):((k+1)*self.n), i]])\n",
    "        return Z"
   ]
  },
  {
   "cell_type": "code",
   "execution_count": 32,
   "id": "2c63712e-a31e-4954-b501-8e996ea5f38e",
   "metadata": {},
   "outputs": [
    {
     "name": "stderr",
     "output_type": "stream",
     "text": [
      "\u001b[38;21m[INFO] 15:17:               agent_name  Stat_val  max_global_step\n",
      "                            Comparator   107.51         0 \u001b[0m\n"
     ]
    },
    {
     "name": "stdout",
     "output_type": "stream",
     "text": [
      "Step 0\n"
     ]
    },
    {
     "name": "stderr",
     "output_type": "stream",
     "text": [
      "\u001b[38;21m[INFO] 15:18:          agent_name  Stat_val  sup_bound  max_global_step\n",
      "                       Comparator    94.9     120.79          1 \u001b[0m\n"
     ]
    },
    {
     "name": "stdout",
     "output_type": "stream",
     "text": [
      "Step 1\n"
     ]
    },
    {
     "name": "stderr",
     "output_type": "stream",
     "text": [
      "\u001b[38;21m[INFO] 15:18:          agent_name  Stat_val  sup_bound  max_global_step\n",
      "                       Comparator   135.29    132.05          2 \u001b[0m\n"
     ]
    },
    {
     "name": "stdout",
     "output_type": "stream",
     "text": [
      "Step 2\n"
     ]
    },
    {
     "name": "stderr",
     "output_type": "stream",
     "text": [
      "\u001b[38;21m[INFO] 15:18:          agent_name  Stat_val  sup_bound  max_global_step\n",
      "                       Comparator    21.7     139.29          3 \u001b[0m\n"
     ]
    },
    {
     "name": "stdout",
     "output_type": "stream",
     "text": [
      "Step 3\n"
     ]
    },
    {
     "name": "stderr",
     "output_type": "stream",
     "text": [
      "\u001b[38;21m[INFO] 15:18:          agent_name  Stat_val  sup_bound  max_global_step\n",
      "                       Comparator    8.91     190.56          4 \u001b[0m\n"
     ]
    },
    {
     "name": "stdout",
     "output_type": "stream",
     "text": [
      "Step 4\n"
     ]
    },
    {
     "name": "stderr",
     "output_type": "stream",
     "text": [
      "\u001b[38;21m[INFO] 15:18:          agent_name  Stat_val  sup_bound  max_global_step\n",
      "                       Comparator   30.07     201.73          5 \u001b[0m\n"
     ]
    },
    {
     "name": "stdout",
     "output_type": "stream",
     "text": [
      "Step 5\n"
     ]
    },
    {
     "name": "stderr",
     "output_type": "stream",
     "text": [
      "\u001b[38;21m[INFO] 15:18:          agent_name  Stat_val  sup_bound  max_global_step\n",
      "                       Comparator   74.71     208.31          6 \u001b[0m\n"
     ]
    },
    {
     "name": "stdout",
     "output_type": "stream",
     "text": [
      "Step 6\n"
     ]
    },
    {
     "name": "stderr",
     "output_type": "stream",
     "text": [
      "\u001b[38;21m[INFO] 15:18:          agent_name  Stat_val  sup_bound  max_global_step\n",
      "                       Comparator    4.41     268.89          7 \u001b[0m\n"
     ]
    },
    {
     "name": "stdout",
     "output_type": "stream",
     "text": [
      "Step 7\n"
     ]
    },
    {
     "name": "stderr",
     "output_type": "stream",
     "text": [
      "\u001b[38;21m[INFO] 15:18:          agent_name  Stat_val  sup_bound  max_global_step\n",
      "                       Comparator    9.19     325.97          8 \u001b[0m\n"
     ]
    },
    {
     "name": "stdout",
     "output_type": "stream",
     "text": [
      "Step 8\n"
     ]
    },
    {
     "name": "stderr",
     "output_type": "stream",
     "text": [
      "\u001b[38;21m[INFO] 15:18:          agent_name  Stat_val  sup_bound  max_global_step\n",
      "                       Comparator   34.94     328.37          9 \u001b[0m\n"
     ]
    },
    {
     "name": "stdout",
     "output_type": "stream",
     "text": [
      "Step 9\n"
     ]
    },
    {
     "data": {
      "text/plain": [
       "array(['reject', 'reject', 'accept', 'reject'], dtype='<U8')"
      ]
     },
     "execution_count": 32,
     "metadata": {},
     "output_type": "execute_result"
    }
   ],
   "source": [
    "comparator = MyMultipleAgentsComparator(n, K, B, alpha)\n",
    "comparator.compare([(None, {}) for _ in df_alien.columns],\n",
    "                   comparisons=np.array([(3,i) for i in [0,1,2,4]]),\n",
    "                   clean_after = False)"
   ]
  },
  {
   "cell_type": "code",
   "execution_count": 33,
   "id": "03c75aca-c291-435e-bbde-77881dc9c0a6",
   "metadata": {},
   "outputs": [
    {
     "name": "stdout",
     "output_type": "stream",
     "text": [
      "[array([3, 4]), array([3, 1]), array([3, 0])]\n"
     ]
    }
   ],
   "source": [
    "print(comparator.rejected_decision)"
   ]
  },
  {
   "cell_type": "code",
   "execution_count": 34,
   "id": "48f62a50-76a8-4a7e-8f6b-e72acc55be55",
   "metadata": {},
   "outputs": [
    {
     "name": "stdout",
     "output_type": "stream",
     "text": [
      "[20, 20, 50, 50, 10]\n"
     ]
    }
   ],
   "source": [
    "print(comparator.n_iters)"
   ]
  },
  {
   "cell_type": "code",
   "execution_count": 35,
   "id": "eab658a7-1f2c-4ae9-8d25-151c7687defa",
   "metadata": {},
   "outputs": [
    {
     "data": {
      "image/png": "[encoded data removed]",
      "text/plain": [
       "<Figure size 432x288 with 1 Axes>"
      ]
     },
     "metadata": {
      "needs_background": "light"
     },
     "output_type": "display_data"
    }
   ],
   "source": [
    "comparator.plot_boundary()"
   ]
  },
  {
   "cell_type": "code",
   "execution_count": null,
   "id": "81baa219-cc9a-4555-a6e9-19b8bb7aeaaf",
   "metadata": {},
   "outputs": [],
   "source": []
  }
 ],
 "metadata": {
  "kernelspec": {
   "display_name": "Python 3 (ipykernel)",
   "language": "python",
   "name": "python3"
  },
  "language_info": {
   "codemirror_mode": {
    "name": "ipython",
    "version": 3
   },
   "file_extension": ".py",
   "mimetype": "text/x-python",
   "name": "python",
   "nbconvert_exporter": "python",
   "pygments_lexer": "ipython3",
   "version": "3.10.8"
  }
 },
 "nbformat": 4,
 "nbformat_minor": 5
}
