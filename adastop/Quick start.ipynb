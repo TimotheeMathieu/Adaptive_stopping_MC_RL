{
 "cells": [
  {
   "cell_type": "markdown",
   "id": "64b53ab0-99e8-40e8-ad2c-f84723696884",
   "metadata": {},
   "source": [
    "# Adaptive stopping in a Bandit problem"
   ]
  },
  {
   "cell_type": "code",
   "execution_count": 1,
   "id": "254a3413-ec29-4e2b-83a9-2e0177582449",
   "metadata": {},
   "outputs": [],
   "source": [
    "import numpy as np\n",
    "import matplotlib.pyplot as plt\n",
    "\n",
    "from compare_agents import MultipleAgentsComparator\n",
    "\n",
    "from rlberry.agents.torch import DQNAgent, PPOAgent, A2CAgent\n",
    "from rlberry.agents import RSUCBVIAgent\n",
    "import pandas as pd\n",
    "\n",
    "from rlberry.envs.bandits import BernoulliBandit\n",
    "from rlberry.wrappers import WriterWrapper\n",
    "from rlberry.agents.bandits import (\n",
    "    IndexAgent,\n",
    "    RandomizedAgent,\n",
    "    makeBoundedIMEDIndex,\n",
    "    makeBoundedMOSSIndex,\n",
    "    makeBoundedNPTSIndex,\n",
    "    makeBoundedUCBIndex,\n",
    "    makeETCIndex,\n",
    ")\n",
    "\n"
   ]
  },
  {
   "cell_type": "markdown",
   "id": "64e8ffef-f39e-40fc-9ecc-7b3f1c191dde",
   "metadata": {},
   "source": [
    "We wish to reproduce the results in https://rlberry.readthedocs.io/en/latest/auto_examples/demo_bandits/plot_compare_index_bandits.html#sphx-glr-auto-examples-demo-bandits-plot-compare-index-bandits-py\n"
   ]
  },
  {
   "cell_type": "markdown",
   "id": "c110ecb9-a0f8-4e15-986b-3942fb7b72d6",
   "metadata": {},
   "source": [
    "## Problem setting"
   ]
  },
  {
   "cell_type": "code",
   "execution_count": 2,
   "id": "cc54b6bb-277b-49be-b629-93593f983739",
   "metadata": {},
   "outputs": [],
   "source": [
    "# Parameters of the problem\n",
    "means = np.array([0.6, 0.6, 0.6, 0.9])  # means of the arms\n",
    "A = len(means)\n",
    "T = 2000  # Horizon\n",
    "\n",
    "# Construction of the experiment\n",
    "\n",
    "env_ctor = BernoulliBandit\n",
    "env_kwargs = {\"p\": means}\n",
    "\n",
    "\n",
    "class UCBAgent(IndexAgent):\n",
    "    name = \"UCB\"\n",
    "\n",
    "    def __init__(self, env, **kwargs):\n",
    "        index, _ = makeBoundedUCBIndex()\n",
    "        IndexAgent.__init__(self, env, index, **kwargs)\n",
    "        self.env = WriterWrapper(\n",
    "            self.env, self.writer, write_scalar=\"reward\"\n",
    "        )\n",
    "    \n",
    "\n",
    "\n",
    "class ETCAgent(IndexAgent):\n",
    "    name = \"ETC\"\n",
    "\n",
    "    def __init__(self, env, m=20, **kwargs):\n",
    "        index, _ = makeETCIndex(A, m)\n",
    "        IndexAgent.__init__(self, env, index, **kwargs)\n",
    "        self.env = WriterWrapper(\n",
    "            self.env, self.writer, write_scalar=\"action_and_reward\"\n",
    "        )\n",
    "\n",
    "        \n",
    "class MOSSAgent(IndexAgent):\n",
    "    name = \"MOSS\"\n",
    "\n",
    "    def __init__(self, env, **kwargs):\n",
    "        index, _ = makeBoundedMOSSIndex(T, A)\n",
    "        IndexAgent.__init__(self, env, index, **kwargs)\n",
    "        self.env = WriterWrapper(\n",
    "            self.env, self.writer, write_scalar=\"action_and_reward\"\n",
    "        )\n",
    "\n",
    "\n",
    "class IMEDAgent(IndexAgent):\n",
    "    name = \"IMED\"\n",
    "\n",
    "    def __init__(self, env, **kwargs):\n",
    "        index, tracker_params = makeBoundedIMEDIndex()\n",
    "        IndexAgent.__init__(self, env, index, tracker_params=tracker_params, **kwargs)\n",
    "        self.env = WriterWrapper(\n",
    "            self.env, self.writer, write_scalar=\"reward\"\n",
    "        )\n",
    "\n",
    "class NPTSAgent(IndexAgent):\n",
    "    name = \"NPTS\"\n",
    "\n",
    "    def __init__(self, env, **kwargs):\n",
    "        index, tracker_params = makeBoundedNPTSIndex()\n",
    "        IndexAgent.__init__(self, env, index, tracker_params=tracker_params, **kwargs)\n",
    "        self.env = WriterWrapper(\n",
    "            self.env, self.writer, write_scalar=\"reward\"\n",
    "        )\n",
    "\n",
    "\n",
    "Agents_class = [\n",
    "    MOSSAgent,\n",
    "    IMEDAgent,\n",
    "    NPTSAgent,\n",
    "    UCBAgent,\n",
    "    ETCAgent\n",
    "]\n",
    "\n",
    "managers = [\n",
    "    (Agent,\n",
    "        dict(\n",
    "        train_env=(env_ctor, env_kwargs),\n",
    "        fit_budget=T,\n",
    "        parallelization=\"process\",\n",
    "        mp_context=\"fork\")\n",
    "    )\n",
    "    for Agent in Agents_class\n",
    "]\n"
   ]
  },
  {
   "cell_type": "markdown",
   "id": "92802c6d-df0a-4dff-bb8d-b828df82446e",
   "metadata": {},
   "source": [
    "## Adastop algorithm"
   ]
  },
  {
   "cell_type": "code",
   "execution_count": 3,
   "id": "3f442840-1bc3-41fc-aa65-d2f5a1788e14",
   "metadata": {},
   "outputs": [],
   "source": [
    "# we want to be able to see a difference of 5 and the std is around 10\n",
    "n = 10\n",
    "K = 10\n",
    "B=10000\n",
    "alpha = 0.05"
   ]
  },
  {
   "cell_type": "code",
   "execution_count": 4,
   "id": "ca26cf10-8efc-46f1-bf16-719226806f38",
   "metadata": {},
   "outputs": [
    {
     "name": "stdout",
     "output_type": "stream",
     "text": [
      "With these parameters, we have a maximum of 100 fits done for each agent\n",
      "Number of comparisons is 10.0\n"
     ]
    }
   ],
   "source": [
    "\n",
    "n_managers = len(managers)\n",
    "print('With these parameters, we have a maximum of {} fits done for each agent'.format(n*K))\n",
    "print('Number of comparisons is {}'.format(n_managers*(n_managers-1)/2))"
   ]
  },
  {
   "cell_type": "markdown",
   "id": "b49d7997-f185-4783-8587-c02745cdb3cb",
   "metadata": {},
   "source": [
    "let us now compare all the different algorithm"
   ]
  },
  {
   "cell_type": "code",
   "execution_count": 5,
   "id": "41961fa4-8ee8-450d-8863-48f29affe506",
   "metadata": {
    "scrolled": true,
    "tags": []
   },
   "outputs": [],
   "source": [
    "from rlberry.utils.logging import set_level\n",
    "set_level('ERROR')"
   ]
  },
  {
   "cell_type": "code",
   "execution_count": 6,
   "id": "57995129-0d68-4b8e-a21b-b434df3eb3c1",
   "metadata": {},
   "outputs": [],
   "source": [
    "class Comparator(MultipleAgentsComparator):\n",
    "    def __init__(self, **kwargs):\n",
    "        MultipleAgentsComparator.__init__(self, **kwargs)\n",
    "        \n",
    "    def _get_evals(self, manager):\n",
    "        \"\"\"\n",
    "        Compute the cumulative reward.\n",
    "        \"\"\"\n",
    "        eval_values = []\n",
    "        for idx in  manager.get_writer_data():\n",
    "            df = manager.get_writer_data()[idx]\n",
    "            eval_values.append(np.sum(np.max(means)-df.loc[df['tag']=='reward', 'value']))\n",
    "        return eval_values"
   ]
  },
  {
   "cell_type": "code",
   "execution_count": 7,
   "id": "24bf254e-bc94-4d9c-aa58-e3ac7ea53a4b",
   "metadata": {},
   "outputs": [
    {
     "name": "stdout",
     "output_type": "stream",
     "text": [
      "Step 0\n",
      "reject\n",
      "reject\n",
      "reject\n",
      "reject\n",
      "Step 1\n",
      "Step 2\n",
      "reject\n",
      "reject\n",
      "Step 3\n",
      "reject\n",
      "Step 4\n",
      "Step 5\n",
      "Step 6\n",
      "Step 7\n",
      "Step 8\n",
      "Step 9\n",
      "{'[0 1]': 'larger', '[0 2]': 'larger', '[0 3]': 'smaller', '[0 4]': 'larger', '[1 2]': 'equal', '[1 3]': 'smaller', '[1 4]': 'equal', '[2 3]': 'smaller', '[2 4]': 'equal', '[3 4]': 'larger'}\n",
      "{'MOSS': 40, 'IMED': 30, 'NPTS': 100, 'UCB': 10, 'ETC': 100}\n"
     ]
    }
   ],
   "source": [
    "comparator  = Comparator(n=n, K=K, B=B, alpha=alpha, n_evaluations = 10, beta=0.01)\n",
    "\n",
    "comparator.compare(managers)\n",
    "\n",
    "print(comparator.decisions)\n",
    "print(comparator.n_iters)"
   ]
  },
  {
   "cell_type": "code",
   "execution_count": 8,
   "id": "f32a55c4",
   "metadata": {},
   "outputs": [
    {
     "data": {
      "text/plain": [
       "{'MOSS': 40, 'IMED': 30, 'NPTS': 100, 'UCB': 10, 'ETC': 100}"
      ]
     },
     "execution_count": 8,
     "metadata": {},
     "output_type": "execute_result"
    }
   ],
   "source": [
    "comparator.n_iters"
   ]
  },
  {
   "cell_type": "markdown",
   "id": "a911dceb-e0d3-45a0-bb49-92021bb4a0c5",
   "metadata": {},
   "source": [
    "We reject the comparisons (1,3), (0,1), (0,2) , (2,3) and (0,3). Let us check graphically that this makes sense"
   ]
  },
  {
   "cell_type": "code",
   "execution_count": 9,
   "id": "856cc13b-be04-466f-9985-5695e5fefefd",
   "metadata": {},
   "outputs": [
    {
     "data": {
      "text/plain": [
       "[array([ 7., 20., 21., 51., 50., 13., 38.,  4., 32., 32., 16., 12., 33.,\n",
       "         7., 27., -2., 32., 29., 48., 23., 10., 12., 50., 33., 40.,  7.,\n",
       "        33., 18., 35., 46., 29., 37., 45., 35., 38., 14., 34., 24., 16.,\n",
       "        45.]),\n",
       " array([ 10.,  21.,  33.,  17.,   6.,   4.,  39.,   2.,  -4.,  15., -15.,\n",
       "         10.,  -6.,  13.,  16.,   7.,   9.,  23.,  -8.,  33.,  31.,   3.,\n",
       "         -4.,  25.,   1.,  24.,  24.,  11.,  15.,  19.]),\n",
       " array([ 34.,  31.,  -6.,   5.,  -8.,   5.,  17.,  25.,  41.,   5.,   2.,\n",
       "         32.,  11.,  15.,   7.,   8.,  30.,   2.,  32.,  25.,   5.,  31.,\n",
       "         25.,  19.,  -6.,  12.,  14.,  28.,  40.,   9.,  28.,  -5.,   2.,\n",
       "         12.,  10.,  23.,   8.,  17., -25.,  24.,  13.,  20.,  22., -10.,\n",
       "         27.,  19.,  11., -12.,  25.,  30.,  10.,  13.,  -8.,  16.,   5.,\n",
       "         13.,  32.,  35.,   8.,  -8.,  15.,   9., -14.,  26.,  14.,  15.,\n",
       "         19.,  16.,  48.,  16.,  18.,   1., -10.,   6.,  20.,  24.,  23.,\n",
       "        -10.,  19.,  25.,   2.,   5.,  10.,  -6.,  22.,  16.,  28.,  30.,\n",
       "          7.,  20.,  23.,  22.,  16.,  -2.,  41.,  14.,  18.,  22.,   1.,\n",
       "          6.]),\n",
       " array([55., 59., 52., 41., 86., 42., 55., 58., 64., 29.]),\n",
       " array([-2.,  7.,  4.,  8.,  6., 25.,  8., 19.,  5., 16.,  4.,  9., 14.,\n",
       "        22., 21., 18., 13., 12., 34.,  8., 16., 24.,  2.,  8., 12.,  7.,\n",
       "        -1., 30., -5.,  4., 21., 36., 23.,  9., -6., 36., -1., 10.,  1.,\n",
       "        49., 13., 13., 18., 47., 17., 15.,  9., -5., 14.,  6., -2., 18.,\n",
       "         7.,  6.,  6., 21., 31., 14., 12., 17., 11., 32., 20., 38., -1.,\n",
       "        15., 28., 26., 20., 31., 22., 23., 27., 23.,  7.,  5., 10., 20.,\n",
       "        20., 19.,  9., 15., 36.,  9.,  7.,  5., 10., 14.,  7., 11., 28.,\n",
       "        11., -6., 37., 23., 11., 11., 42., 36., 19.])]"
      ]
     },
     "execution_count": 9,
     "metadata": {},
     "output_type": "execute_result"
    }
   ],
   "source": [
    "comparator.eval_values"
   ]
  },
  {
   "cell_type": "code",
   "execution_count": 10,
   "id": "a7feaa7f-2e9c-4a40-8dcc-fcd77faa7086",
   "metadata": {},
   "outputs": [],
   "source": [
    "id_sort = np.argsort(comparator.mean_eval_values)\n",
    "Z = [ comparator.eval_values[f] for f in id_sort]"
   ]
  },
  {
   "cell_type": "code",
   "execution_count": 11,
   "id": "218f02a6-f2b8-4f46-94a5-efc35b7b5ae3",
   "metadata": {},
   "outputs": [
    {
     "data": {
      "image/png": "[encoded data removed]",
      "text/plain": [
       "<Figure size 432x360 with 2 Axes>"
      ]
     },
     "metadata": {
      "needs_background": "light"
     },
     "output_type": "display_data"
    }
   ],
   "source": [
    "comparator.plot_results()"
   ]
  },
  {
   "cell_type": "code",
   "execution_count": 12,
   "id": "b1d706f6-ae0d-4c09-abb5-a3366a920b6a",
   "metadata": {},
   "outputs": [
    {
     "data": {
      "text/plain": [
       "{'MOSS': 40, 'IMED': 30, 'NPTS': 100, 'UCB': 10, 'ETC': 100}"
      ]
     },
     "execution_count": 12,
     "metadata": {},
     "output_type": "execute_result"
    }
   ],
   "source": [
    "comparator.n_iters"
   ]
  },
  {
   "cell_type": "code",
   "execution_count": 13,
   "id": "5e2b5d12-cb00-4b36-8f39-05398107683b",
   "metadata": {},
   "outputs": [
    {
     "data": {
      "text/plain": [
       "['MOSS', 'IMED', 'NPTS', 'UCB', 'ETC']"
      ]
     },
     "execution_count": 13,
     "metadata": {},
     "output_type": "execute_result"
    }
   ],
   "source": [
    "comparator.agent_names"
   ]
  },
  {
   "cell_type": "code",
   "execution_count": null,
   "id": "b8fbbc35-996c-43bc-b1c4-c7558a62aaf1",
   "metadata": {},
   "outputs": [],
   "source": []
  }
 ],
 "metadata": {
  "kernelspec": {
   "display_name": "Python 3 (ipykernel)",
   "language": "python",
   "name": "python3"
  },
  "language_info": {
   "codemirror_mode": {
    "name": "ipython",
    "version": 3
   },
   "file_extension": ".py",
   "mimetype": "text/x-python",
   "name": "python",
   "nbconvert_exporter": "python",
   "pygments_lexer": "ipython3",
   "version": "3.10.9"
  },
  "toc": {
   "base_numbering": 1,
   "nav_menu": {},
   "number_sections": true,
   "sideBar": true,
   "skip_h1_title": false,
   "title_cell": "Table of Contents",
   "title_sidebar": "Contents",
   "toc_cell": false,
   "toc_position": {},
   "toc_section_display": true,
   "toc_window_display": false
  }
 },
 "nbformat": 4,
 "nbformat_minor": 5
}
