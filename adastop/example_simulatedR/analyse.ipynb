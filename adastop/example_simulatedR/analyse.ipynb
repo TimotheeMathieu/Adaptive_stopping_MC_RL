{
 "cells": [
  {
   "cell_type": "code",
   "execution_count": 1,
   "metadata": {},
   "outputs": [
    {
     "name": "stdout",
     "output_type": "stream",
     "text": [
      "/home/ashilova/Adaptive_stopping_MC_RL/adastop/example_simulatedR\n"
     ]
    },
    {
     "name": "stderr",
     "output_type": "stream",
     "text": [
      "/home/ashilova/miniconda3/envs/rlberry/lib/python3.8/site-packages/gym/envs/registration.py:423: UserWarning: \u001b[33mWARN: Custom namespace `MinAtar` is being overridden by namespace `MinAtar`. If you are developing a plugin you shouldn't specify a namespace in `register` calls. The namespace is specified through the entry point package metadata.\u001b[0m\n",
      "  logger.warn(\n",
      "/home/ashilova/miniconda3/envs/rlberry/lib/python3.8/site-packages/tqdm/auto.py:22: TqdmWarning: IProgress not found. Please update jupyter and ipywidgets. See https://ipywidgets.readthedocs.io/en/stable/user_install.html\n",
      "  from .autonotebook import tqdm as notebook_tqdm\n",
      "/home/ashilova/miniconda3/envs/rlberry/lib/python3.8/site-packages/past/builtins/misc.py:45: DeprecationWarning: the imp module is deprecated in favour of importlib; see the module's documentation for alternative uses\n",
      "  from imp import reload\n"
     ]
    }
   ],
   "source": [
    "import pandas as pd\n",
    "import matplotlib.pyplot as plt\n",
    "import os \n",
    "import numpy as np\n",
    "print(os.getcwd())\n",
    "from json import load\n",
    "import pickle\n",
    "\n",
    "import sys\n",
    "home_folder = os.environ[\"HOME\"]\n",
    "workdir = os.path.join(home_folder,\"Adaptive_stopping_MC_RL\",\"adastop\")\n",
    "sys.path.insert(0, workdir)\n",
    "\n",
    "from compare_agents import MultipleAgentsComparator\n"
   ]
  },
  {
   "cell_type": "code",
   "execution_count": 2,
   "metadata": {},
   "outputs": [],
   "source": [
    "# path_res = \"./mgres\"\n",
    "path_res = \"/home/rdellave/Adaptive_stopping_MC_RL/adastop/example_simulatedR/mgres\""
   ]
  },
  {
   "cell_type": "code",
   "execution_count": 3,
   "metadata": {},
   "outputs": [],
   "source": [
    "li = os.listdir(path_res)\n",
    "n_iters = {}\n",
    "decs = {}\n",
    "for elem in li:\n",
    "    elem_path = os.path.join(path_res, elem)\n",
    "    with open(elem_path,\"rb\") as f:\n",
    "        params, comp = pickle.load(f)\n",
    "    dmu = params[\"diff_means\"]\n",
    "\n",
    "    if dmu in n_iters.keys():\n",
    "        n_iters[dmu].append(comp[\"n_iter\"] / 2)\n",
    "    else:\n",
    "        n_iters[dmu] = [comp[\"n_iter\"]/2]\n",
    "\n",
    "    if dmu in decs.keys():\n",
    "        decs[dmu].append(comp[\"decision\"])\n",
    "    else:\n",
    "        decs[dmu] = [comp[\"decision\"]]\n"
   ]
  },
  {
   "attachments": {},
   "cell_type": "markdown",
   "metadata": {},
   "source": [
    "Note that in the following we plot 3 stds to cover 99% confidence interval"
   ]
  },
  {
   "cell_type": "code",
   "execution_count": 4,
   "metadata": {},
   "outputs": [
    {
     "name": "stdout",
     "output_type": "stream",
     "text": [
      "100.0\n"
     ]
    }
   ],
   "source": [
    "power = {}\n",
    "power_std = {}\n",
    "power_confidence_interval = {}\n",
    "n_iter_avg = {}\n",
    "sqrt_n = np.sqrt(len(decs[0]))\n",
    "print(sqrt_n)\n",
    "\n",
    "for dmu in decs.keys():\n",
    "    p = np.array(decs[dmu]) == \"reject\"\n",
    "    power[dmu] = np.mean(p)\n",
    "    power_std[dmu] = np.std(p)\n",
    "    power_confidence_interval[dmu] = np.std(p)/sqrt_n*3\n",
    "for k in n_iters.keys():\n",
    "    n_iter_avg[k] = np.mean(n_iters[k])\n",
    "\n",
    "powers, power_stds, power_confidence_intervals = dict(sorted(power.items())),  dict(sorted(power_std.items())), dict(sorted(power_confidence_interval.items())) "
   ]
  },
  {
   "cell_type": "code",
   "execution_count": 5,
   "metadata": {},
   "outputs": [
    {
     "data": {
      "image/png": "[encoded data removed]",
      "text/plain": [
       "<Figure size 432x288 with 1 Axes>"
      ]
     },
     "metadata": {
      "needs_background": "light"
     },
     "output_type": "display_data"
    }
   ],
   "source": [
    "import sys\n",
    "import os\n",
    "home_folder = os.environ[\"HOME\"]\n",
    "workdir = os.path.join(home_folder,\"Adaptive_stopping_MC_RL\",\"adastop\", \"example_simulatedR\")\n",
    "sys.path.insert(0, workdir)\n",
    "\n",
    "plt.axhline(y = 0.05, color = 'r', linestyle = '--')\n",
    "# plt.axhline(y = 1, color = 'r', linestyle = '-')\n",
    "# plt.axhline(y = 0., color = 'r', linestyle = '-')\n",
    "plt.ylim((0,1))\n",
    "plt.yticks(np.append(np.linspace(0,1,6),0.05))\n",
    "# plt.errorbar(powers.keys(), powers.values(), list(power_stds.values()), linestyle='None', marker= 'o', capsize=3)\n",
    "plt.errorbar(powers.keys(), powers.values(), list(power_confidence_intervals.values()), linestyle='None', fmt = \"none\", capsize=3)\n",
    "plt.ylabel(\"frequency of rejection\")\n",
    "plt.xlabel(\"mean of second mixture component\")\n",
    "\n",
    "plt.savefig(os.path.join(workdir, \"gaussianVSmg.png\"))\n",
    "plt.savefig(os.path.join(workdir, \"gaussianVSmg.pdf\"))\n",
    "\n",
    "\n"
   ]
  },
  {
   "attachments": {},
   "cell_type": "markdown",
   "metadata": {},
   "source": [
    "## Means tests"
   ]
  },
  {
   "cell_type": "code",
   "execution_count": 6,
   "metadata": {},
   "outputs": [],
   "source": [
    "# path_res = \"./mgres\"\n",
    "path_res2 = \"/home/ashilova/Adaptive_stopping_MC_RL/adastop/example_simulatedR/mgres/exp1\""
   ]
  },
  {
   "cell_type": "code",
   "execution_count": 7,
   "metadata": {},
   "outputs": [],
   "source": [
    "li = os.listdir(path_res2)\n",
    "n_iters2 = {}\n",
    "decs2 = {}\n",
    "for elem in li:\n",
    "    elem_path = os.path.join(path_res2, elem)\n",
    "    with open(elem_path,\"rb\") as f:\n",
    "        params, comp = pickle.load(f)\n",
    "    dmu = params[\"dist_params\"]\n",
    "\n",
    "    if dmu in n_iters2.keys():\n",
    "        n_iters2[dmu].append(list(comp.n_iters.values())[0] / 2)\n",
    "    else:\n",
    "        n_iters2[dmu] = [list(comp.n_iters.values())[0] / 2]\n",
    "\n",
    "    if dmu in decs2.keys():\n",
    "        decs2[dmu].append(list(comp.decisions.values())[0])\n",
    "    else:\n",
    "        decs2[dmu] = [list(comp.decisions.values())[0]]\n"
   ]
  },
  {
   "cell_type": "code",
   "execution_count": 8,
   "metadata": {},
   "outputs": [
    {
     "data": {
      "text/plain": [
       "5000"
      ]
     },
     "execution_count": 8,
     "metadata": {},
     "output_type": "execute_result"
    }
   ],
   "source": [
    "len(decs2[0.7777777777777777])"
   ]
  },
  {
   "cell_type": "markdown",
   "metadata": {},
   "source": [
    "Note that in the following we plot 3 stds to cover 99% confidence interval"
   ]
  },
  {
   "cell_type": "code",
   "execution_count": 9,
   "metadata": {},
   "outputs": [
    {
     "name": "stdout",
     "output_type": "stream",
     "text": [
      "70.71067811865476\n"
     ]
    }
   ],
   "source": [
    "power2 = {}\n",
    "power_std2 = {}\n",
    "power_confidence_interval2 = {}\n",
    "n_iter_avg2 = {}\n",
    "sqrt_n = np.sqrt(len(decs2[0]))\n",
    "print(sqrt_n)\n",
    "\n",
    "for dmu in decs2.keys():\n",
    "    p = np.array(decs2[dmu]) != \"equal\"\n",
    "    power2[dmu] = np.mean(p)\n",
    "    power_std2[dmu] = np.std(p)\n",
    "    power_confidence_interval2[dmu] = np.std(p)/sqrt_n*3\n",
    "for k in n_iters2.keys():\n",
    "    n_iter_avg2[k] = np.mean(n_iters2[k])\n",
    "\n",
    "powers2, power_stds2, power_confidence_intervals2 = dict(sorted(power2.items())),  dict(sorted(power_std2.items())), dict(sorted(power_confidence_interval2.items())) "
   ]
  },
  {
   "cell_type": "code",
   "execution_count": 10,
   "metadata": {},
   "outputs": [
    {
     "data": {
      "image/png": "[encoded data removed]",
      "text/plain": [
       "<Figure size 432x288 with 1 Axes>"
      ]
     },
     "metadata": {
      "needs_background": "light"
     },
     "output_type": "display_data"
    }
   ],
   "source": [
    "import sys\n",
    "import os\n",
    "home_folder = os.environ[\"HOME\"]\n",
    "workdir = os.path.join(home_folder,\"Adaptive_stopping_MC_RL\",\"adastop\", \"example_simulatedR\")\n",
    "sys.path.insert(0, workdir)\n",
    "\n",
    "plt.axhline(y = 0.05, color = 'r', linestyle = '--')\n",
    "# plt.axhline(y = 1, color = 'r', linestyle = '-')\n",
    "# plt.axhline(y = 0., color = 'r', linestyle = '-')\n",
    "plt.ylim((0,1))\n",
    "plt.yticks(np.append(np.linspace(0,1,6),0.05))\n",
    "# plt.errorbar(powers.keys(), powers.values(), list(power_stds.values()), linestyle='None', marker= 'o', capsize=3)\n",
    "plt.errorbar(powers2.keys(), powers2.values(), list(power_confidence_intervals2.values()), linestyle='None', fmt = \"none\", capsize=3)\n",
    "plt.ylabel(\"frequency of rejection\")\n",
    "plt.xlabel(\"mean of second mixture component\")\n",
    "\n",
    "plt.savefig(os.path.join(workdir, \"gaussianVSmg_samemean.png\"))\n",
    "plt.savefig(os.path.join(workdir, \"gaussianVSmg_samemean.pdf\"))\n",
    "\n",
    "\n"
   ]
  },
  {
   "cell_type": "code",
   "execution_count": 23,
   "metadata": {},
   "outputs": [
    {
     "data": {
      "image/png": "[encoded data removed]",
      "text/plain": [
       "<Figure size 432x288 with 1 Axes>"
      ]
     },
     "metadata": {
      "needs_background": "light"
     },
     "output_type": "display_data"
    }
   ],
   "source": [
    "import sys\n",
    "import os\n",
    "import seaborn\n",
    "\n",
    "# plt.rcParams.update({\n",
    "#     \"text.usetex\": True,\n",
    "#     \"font.family\": \"Helvetica\"\n",
    "# })\n",
    "\n",
    "plt.rcParams.update({'font.size': 13})\n",
    "\n",
    "home_folder = os.environ[\"HOME\"]\n",
    "workdir = os.path.join(home_folder,\"Adaptive_stopping_MC_RL\",\"adastop\", \"example_simulatedR\")\n",
    "sys.path.insert(0, workdir)\n",
    "\n",
    "plt.axhline(y = 0.05, color = 'r', linestyle = '--')\n",
    "# plt.axhline(y = 1, color = 'r', linestyle = '-')\n",
    "# plt.axhline(y = 0., color = 'r', linestyle = '-')\n",
    "plt.ylim((0,1))\n",
    "plt.yticks(np.append(np.linspace(0,1,6),0.05))\n",
    "plt.errorbar(powers.keys(), powers.values(), list(power_confidence_intervals.values()), linestyle='None', fmt = \"none\", capsize=3, label = \"different mean\", color = \"#8856a7\", linewidth=2)\n",
    "# plt.errorbar(powers.keys(), powers.values(), list(power_stds.values()), linestyle='None', marker= 'o', capsize=3)\n",
    "plt.errorbar(powers2.keys(), powers2.values(), list(power_confidence_intervals2.values()), linestyle='None', fmt = \"none\", capsize=3, label = \"same mean\", color = '#43a2ca', linewidth = 2)\n",
    "plt.ylabel(\"frequency of rejection\")\n",
    "plt.xlabel(\"$\\Delta$, distance between two modes\")\n",
    "plt.legend(loc = \"right\")\n",
    "\n",
    "plt.savefig(os.path.join(workdir, \"gaussianVSmg_exp1-2.png\"))\n",
    "plt.savefig(os.path.join(workdir, \"gaussianVSmg_exp1-2.pdf\"))"
   ]
  },
  {
   "attachments": {},
   "cell_type": "markdown",
   "metadata": {},
   "source": [
    "## Analysing FWE"
   ]
  },
  {
   "cell_type": "code",
   "execution_count": 3,
   "metadata": {},
   "outputs": [],
   "source": [
    "# path_res = \"./mgres\"\n",
    "path_res3 = \"/home/ashilova/Adaptive_stopping_MC_RL/adastop/example_simulatedR/multc_sd_res/exp4\""
   ]
  },
  {
   "cell_type": "code",
   "execution_count": 11,
   "metadata": {},
   "outputs": [],
   "source": [
    "true_hyp = [[0,1], [2,3], [6,7]]\n",
    "true_hyp_means = [[0,1], [0,2], [0,3], [0,4], [1,2], [1,3], [1,4], [2,3], [2,4], [3,4], [0,5], [1,5], [2,5], [3,5], [4,5], [6,7], [6,8], [7,8]]"
   ]
  },
  {
   "cell_type": "code",
   "execution_count": null,
   "metadata": {},
   "outputs": [],
   "source": [
    "li = os.listdir(path_res3)\n",
    "n_iters3 = {}\n",
    "decs3 = {}\n",
    "\n",
    "\n",
    "elem_path = os.path.join(path_res3, li[0])\n",
    "with open(elem_path,\"rb\") as f:\n",
    "    params, comp = pickle.load(f)\n"
   ]
  },
  {
   "cell_type": "code",
   "execution_count": 9,
   "metadata": {},
   "outputs": [
    {
     "data": {
      "text/plain": [
       "['N', '*N', '*MG1', 'MG1', 'MG2', 'tS1', 'MG3', '*MG3', 'MtS', 'tS2']"
      ]
     },
     "execution_count": 9,
     "metadata": {},
     "output_type": "execute_result"
    }
   ],
   "source": [
    "comp.agent_names"
   ]
  },
  {
   "cell_type": "code",
   "execution_count": 25,
   "metadata": {},
   "outputs": [],
   "source": [
    "li = os.listdir(path_res3)\n",
    "n_tests = len(li)\n",
    "n_iters3 = {}\n",
    "nrej3 = 0\n",
    "nrej3_means= 0\n",
    "for elem in li:\n",
    "    elem_path = os.path.join(path_res3, elem)\n",
    "    with open(elem_path,\"rb\") as f:\n",
    "        params, comp = pickle.load(f)\n",
    "    # dmu = params[\"dist_params\"]\n",
    "\n",
    "    # if dmu in n_iters3.keys():\n",
    "    #     n_iters3[dmu].append(list(comp.n_iters3.values())[0] / 2)\n",
    "    # else:\n",
    "    #     n_iters3[dmu] = [list(comp.n_iters3.values())[0] / 2]\n",
    "\n",
    "    for h in true_hyp:\n",
    "        key = \"[{} {}]\".format(h[0], h[1])\n",
    "        if comp.decisions[key] != \"equal\":\n",
    "            nrej3 += 1\n",
    "            break\n",
    "\n",
    "\n",
    "    for h in true_hyp_means:\n",
    "        key = \"[{} {}]\".format(h[0], h[1])\n",
    "        if comp.decisions[key] != \"equal\":\n",
    "            nrej3_means += 1\n",
    "            break\n",
    "        \n",
    "\n"
   ]
  },
  {
   "cell_type": "code",
   "execution_count": 29,
   "metadata": {},
   "outputs": [
    {
     "data": {
      "text/plain": [
       "236"
      ]
     },
     "execution_count": 29,
     "metadata": {},
     "output_type": "execute_result"
    }
   ],
   "source": [
    "nrej3_means"
   ]
  },
  {
   "cell_type": "code",
   "execution_count": 30,
   "metadata": {},
   "outputs": [
    {
     "data": {
      "text/plain": [
       "(0.0178, 0.0472)"
      ]
     },
     "execution_count": 30,
     "metadata": {},
     "output_type": "execute_result"
    }
   ],
   "source": [
    "FWE = nrej3/n_tests\n",
    "\n",
    "FWE_means = nrej3_means/ n_tests\n",
    "\n",
    "FWE, FWE_means"
   ]
  },
  {
   "cell_type": "markdown",
   "metadata": {},
   "source": [
    "Note that in the following we plot 3 stds to cover 99% confidence interval"
   ]
  },
  {
   "cell_type": "code",
   "execution_count": null,
   "metadata": {},
   "outputs": [
    {
     "name": "stdout",
     "output_type": "stream",
     "text": [
      "100.0\n"
     ]
    }
   ],
   "source": [
    "power = {}\n",
    "power_std = {}\n",
    "power_confidence_interval = {}\n",
    "n_iter_avg = {}\n",
    "sqrt_n = np.sqrt(len(decs[0]))\n",
    "print(sqrt_n)\n",
    "\n",
    "for dmu in decs.keys():\n",
    "    p = np.array(decs[dmu]) == \"reject\"\n",
    "    power[dmu] = np.mean(p)\n",
    "    power_std[dmu] = np.std(p)\n",
    "    power_confidence_interval[dmu] = np.std(p)/sqrt_n*3\n",
    "for k in n_iters.keys():\n",
    "    n_iter_avg[k] = np.mean(n_iters[k])\n",
    "\n",
    "powers, power_stds, power_confidence_intervals = dict(sorted(power.items())),  dict(sorted(power_std.items())), dict(sorted(power_confidence_interval.items())) "
   ]
  },
  {
   "cell_type": "code",
   "execution_count": null,
   "metadata": {},
   "outputs": [
    {
     "data": {
      "image/png": "[encoded data removed]",
      "text/plain": [
       "<Figure size 432x288 with 1 Axes>"
      ]
     },
     "metadata": {},
     "output_type": "display_data"
    }
   ],
   "source": [
    "import sys\n",
    "import os\n",
    "home_folder = os.environ[\"HOME\"]\n",
    "workdir = os.path.join(home_folder,\"Adaptive_stopping_MC_RL\",\"adastop\", \"example_simulatedR\")\n",
    "sys.path.insert(0, workdir)\n",
    "\n",
    "plt.axhline(y = 0.05, color = 'r', linestyle = '--')\n",
    "# plt.axhline(y = 1, color = 'r', linestyle = '-')\n",
    "# plt.axhline(y = 0., color = 'r', linestyle = '-')\n",
    "plt.ylim((0,1))\n",
    "plt.yticks(np.append(np.linspace(0,1,6),0.05))\n",
    "# plt.errorbar(powers.keys(), powers.values(), list(power_stds.values()), linestyle='None', marker= 'o', capsize=3)\n",
    "plt.errorbar(powers.keys(), powers.values(), list(power_confidence_intervals.values()), linestyle='None', fmt = \"none\", capsize=3)\n",
    "plt.ylabel(\"frequency of rejection\")\n",
    "plt.xlabel(\"mean of second mixture component\")\n",
    "\n",
    "plt.savefig(os.path.join(workdir, \"gaussianVSmg.png\"))\n",
    "plt.savefig(os.path.join(workdir, \"gaussianVSmg.pdf\"))\n",
    "\n",
    "\n"
   ]
  },
  {
   "cell_type": "markdown",
   "metadata": {},
   "source": []
  }
 ],
 "metadata": {
  "kernelspec": {
   "display_name": "Python 3",
   "language": "python",
   "name": "python3"
  },
  "language_info": {
   "codemirror_mode": {
    "name": "ipython",
    "version": 3
   },
   "file_extension": ".py",
   "mimetype": "text/x-python",
   "name": "python",
   "nbconvert_exporter": "python",
   "pygments_lexer": "ipython3",
   "version": "3.8.13"
  },
  "orig_nbformat": 4,
  "vscode": {
   "interpreter": {
    "hash": "12e6cafa7dd654bdea37bf1ee7c8b836750ff6fa053165e4c6161a98cdfa653e"
   }
  }
 },
 "nbformat": 4,
 "nbformat_minor": 2
}
