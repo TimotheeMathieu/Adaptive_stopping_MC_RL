{
 "cells": [
  {
   "cell_type": "code",
   "execution_count": 1,
   "metadata": {},
   "outputs": [
    {
     "name": "stdout",
     "output_type": "stream",
     "text": [
      "/home/ashilova/Adaptive_stopping_MC_RL/adastop/example_simulatedR\n"
     ]
    },
    {
     "name": "stderr",
     "output_type": "stream",
     "text": [
      "/home/ashilova/miniconda3/envs/rlberry/lib/python3.8/site-packages/gym/envs/registration.py:423: UserWarning: \u001b[33mWARN: Custom namespace `MinAtar` is being overridden by namespace `MinAtar`. If you are developing a plugin you shouldn't specify a namespace in `register` calls. The namespace is specified through the entry point package metadata.\u001b[0m\n",
      "  logger.warn(\n",
      "/home/ashilova/miniconda3/envs/rlberry/lib/python3.8/site-packages/tqdm/auto.py:22: TqdmWarning: IProgress not found. Please update jupyter and ipywidgets. See https://ipywidgets.readthedocs.io/en/stable/user_install.html\n",
      "  from .autonotebook import tqdm as notebook_tqdm\n",
      "/home/ashilova/miniconda3/envs/rlberry/lib/python3.8/site-packages/past/builtins/misc.py:45: DeprecationWarning: the imp module is deprecated in favour of importlib; see the module's documentation for alternative uses\n",
      "  from imp import reload\n"
     ]
    }
   ],
   "source": [
    "import pandas as pd\n",
    "import matplotlib.pyplot as plt\n",
    "import os \n",
    "import numpy as np\n",
    "print(os.getcwd())\n",
    "from json import load\n",
    "import pickle\n",
    "\n",
    "import sys\n",
    "home_folder = os.environ[\"HOME\"]\n",
    "workdir = os.path.join(home_folder,\"Adaptive_stopping_MC_RL\",\"adastop\")\n",
    "sys.path.insert(0, workdir)\n",
    "\n",
    "from compare_agents import MultipleAgentsComparator\n"
   ]
  },
  {
   "cell_type": "code",
   "execution_count": 2,
   "metadata": {},
   "outputs": [],
   "source": [
    "# path_res = \"./mgres\"\n",
    "path_res = \"/home/rdellave/Adaptive_stopping_MC_RL/adastop/example_simulatedR/mgres\""
   ]
  },
  {
   "cell_type": "code",
   "execution_count": 3,
   "metadata": {},
   "outputs": [],
   "source": [
    "li = os.listdir(path_res)\n",
    "n_iters = {}\n",
    "decs = {}\n",
    "for elem in li:\n",
    "    elem_path = os.path.join(path_res, elem)\n",
    "    with open(elem_path,\"rb\") as f:\n",
    "        params, comp = pickle.load(f)\n",
    "    dmu = params[\"diff_means\"]\n",
    "\n",
    "    if dmu in n_iters.keys():\n",
    "        n_iters[dmu].append(comp[\"n_iter\"] / 2)\n",
    "    else:\n",
    "        n_iters[dmu] = [comp[\"n_iter\"]/2]\n",
    "\n",
    "    if dmu in decs.keys():\n",
    "        decs[dmu].append(comp[\"decision\"])\n",
    "    else:\n",
    "        decs[dmu] = [comp[\"decision\"]]\n"
   ]
  },
  {
   "attachments": {},
   "cell_type": "markdown",
   "metadata": {},
   "source": [
    "Note that in the following we plot 3 stds to cover 99% confidence interval"
   ]
  },
  {
   "cell_type": "code",
   "execution_count": 4,
   "metadata": {},
   "outputs": [
    {
     "name": "stdout",
     "output_type": "stream",
     "text": [
      "100.0\n"
     ]
    }
   ],
   "source": [
    "power = {}\n",
    "power_std = {}\n",
    "power_confidence_interval = {}\n",
    "n_iter_avg = {}\n",
    "sqrt_n = np.sqrt(len(decs[0]))\n",
    "print(sqrt_n)\n",
    "\n",
    "for dmu in decs.keys():\n",
    "    p = np.array(decs[dmu]) == \"reject\"\n",
    "    power[dmu] = np.mean(p)\n",
    "    power_std[dmu] = np.std(p)\n",
    "    power_confidence_interval[dmu] = np.std(p)/sqrt_n*3\n",
    "for k in n_iters.keys():\n",
    "    n_iter_avg[k] = np.mean(n_iters[k])\n",
    "\n",
    "powers, power_stds, power_confidence_intervals = dict(sorted(power.items())),  dict(sorted(power_std.items())), dict(sorted(power_confidence_interval.items())) "
   ]
  },
  {
   "cell_type": "code",
   "execution_count": 5,
   "metadata": {},
   "outputs": [
    {
     "data": {
      "image/png": "[encoded data removed]",
      "text/plain": [
       "<Figure size 432x288 with 1 Axes>"
      ]
     },
     "metadata": {
      "needs_background": "light"
     },
     "output_type": "display_data"
    }
   ],
   "source": [
    "import sys\n",
    "import os\n",
    "home_folder = os.environ[\"HOME\"]\n",
    "workdir = os.path.join(home_folder,\"Adaptive_stopping_MC_RL\",\"adastop\", \"example_simulatedR\")\n",
    "sys.path.insert(0, workdir)\n",
    "\n",
    "plt.axhline(y = 0.05, color = 'r', linestyle = '--')\n",
    "# plt.axhline(y = 1, color = 'r', linestyle = '-')\n",
    "# plt.axhline(y = 0., color = 'r', linestyle = '-')\n",
    "plt.ylim((0,1))\n",
    "plt.yticks(np.append(np.linspace(0,1,6),0.05))\n",
    "# plt.errorbar(powers.keys(), powers.values(), list(power_stds.values()), linestyle='None', marker= 'o', capsize=3)\n",
    "plt.errorbar(powers.keys(), powers.values(), list(power_confidence_intervals.values()), linestyle='None', fmt = \"none\", capsize=3)\n",
    "plt.ylabel(\"frequency of rejection\")\n",
    "plt.xlabel(\"mean of second mixture component\")\n",
    "\n",
    "plt.savefig(os.path.join(workdir, \"gaussianVSmg.png\"))\n",
    "plt.savefig(os.path.join(workdir, \"gaussianVSmg.pdf\"))\n",
    "\n",
    "\n"
   ]
  },
  {
   "attachments": {},
   "cell_type": "markdown",
   "metadata": {},
   "source": [
    "## Means tests"
   ]
  },
  {
   "cell_type": "code",
   "execution_count": 6,
   "metadata": {},
   "outputs": [],
   "source": [
    "# path_res = \"./mgres\"\n",
    "path_res2 = \"/home/ashilova/Adaptive_stopping_MC_RL/adastop/example_simulatedR/mgres/exp1\""
   ]
  },
  {
   "cell_type": "code",
   "execution_count": 7,
   "metadata": {},
   "outputs": [],
   "source": [
    "li = os.listdir(path_res2)\n",
    "n_iters2 = {}\n",
    "decs2 = {}\n",
    "for elem in li:\n",
    "    elem_path = os.path.join(path_res2, elem)\n",
    "    with open(elem_path,\"rb\") as f:\n",
    "        params, comp = pickle.load(f)\n",
    "    dmu = params[\"dist_params\"]\n",
    "\n",
    "    if dmu in n_iters2.keys():\n",
    "        n_iters2[dmu].append(list(comp.n_iters.values())[0] / 2)\n",
    "    else:\n",
    "        n_iters2[dmu] = [list(comp.n_iters.values())[0] / 2]\n",
    "\n",
    "    if dmu in decs2.keys():\n",
    "        decs2[dmu].append(list(comp.decisions.values())[0])\n",
    "    else:\n",
    "        decs2[dmu] = [list(comp.decisions.values())[0]]\n"
   ]
  },
  {
   "cell_type": "code",
   "execution_count": 8,
   "metadata": {},
   "outputs": [
    {
     "data": {
      "text/plain": [
       "5000"
      ]
     },
     "execution_count": 8,
     "metadata": {},
     "output_type": "execute_result"
    }
   ],
   "source": [
    "len(decs2[0.7777777777777777])"
   ]
  },
  {
   "cell_type": "markdown",
   "metadata": {},
   "source": [
    "Note that in the following we plot 3 stds to cover 99% confidence interval"
   ]
  },
  {
   "cell_type": "code",
   "execution_count": 9,
   "metadata": {},
   "outputs": [
    {
     "name": "stdout",
     "output_type": "stream",
     "text": [
      "70.71067811865476\n"
     ]
    }
   ],
   "source": [
    "power2 = {}\n",
    "power_std2 = {}\n",
    "power_confidence_interval2 = {}\n",
    "n_iter_avg2 = {}\n",
    "sqrt_n = np.sqrt(len(decs2[0]))\n",
    "print(sqrt_n)\n",
    "\n",
    "for dmu in decs2.keys():\n",
    "    p = np.array(decs2[dmu]) != \"equal\"\n",
    "    power2[dmu] = np.mean(p)\n",
    "    power_std2[dmu] = np.std(p)\n",
    "    power_confidence_interval2[dmu] = np.std(p)/sqrt_n*3\n",
    "for k in n_iters2.keys():\n",
    "    n_iter_avg2[k] = np.mean(n_iters2[k])\n",
    "\n",
    "powers2, power_stds2, power_confidence_intervals2 = dict(sorted(power2.items())),  dict(sorted(power_std2.items())), dict(sorted(power_confidence_interval2.items())) "
   ]
  },
  {
   "cell_type": "code",
   "execution_count": 10,
   "metadata": {},
   "outputs": [
    {
     "data": {
      "image/png": "[encoded data removed]",
      "text/plain": [
       "<Figure size 1224x432 with 1 Axes>"
      ]
     },
     "metadata": {
      "needs_background": "light"
     },
     "output_type": "display_data"
    }
   ],
   "source": [
    "import sys\n",
    "import os\n",
    "home_folder = os.environ[\"HOME\"]\n",
    "workdir = os.path.join(home_folder,\"Adaptive_stopping_MC_RL\",\"adastop\", \"example_simulatedR\")\n",
    "sys.path.insert(0, workdir)\n",
    "\n",
    "plt.figure(figsize=(17,6))\n",
    "\n",
    "plt.axhline(y = 0.05, color = 'r', linestyle = '--')\n",
    "# plt.axhline(y = 1, color = 'r', linestyle = '-')\n",
    "# plt.axhline(y = 0., color = 'r', linestyle = '-')\n",
    "plt.ylim((0,1))\n",
    "plt.yticks(np.append(np.linspace(0,1,6),0.05))\n",
    "# plt.errorbar(powers.keys(), powers.values(), list(power_stds.values()), linestyle='None', marker= 'o', capsize=3)\n",
    "plt.errorbar(powers2.keys(), powers2.values(), list(power_confidence_intervals2.values()), linestyle='None', fmt = \"none\", capsize=3)\n",
    "plt.ylabel(\"frequency of rejection\")\n",
    "plt.xlabel(\"mean of second mixture component\")\n",
    "\n",
    "plt.savefig(os.path.join(workdir, \"gaussianVSmg_samemean.png\"))\n",
    "plt.savefig(os.path.join(workdir, \"gaussianVSmg_samemean.pdf\"))\n",
    "\n",
    "\n"
   ]
  },
  {
   "cell_type": "code",
   "execution_count": 101,
   "metadata": {},
   "outputs": [
    {
     "name": "stdout",
     "output_type": "stream",
     "text": [
      "0.0\n",
      "0.1111111111111111\n",
      "0.2222222222222222\n",
      "0.3333333333333333\n",
      "0.4444444444444444\n",
      "0.5555555555555556\n",
      "0.6666666666666666\n",
      "0.7777777777777777\n",
      "0.8888888888888888\n",
      "1.0\n"
     ]
    },
    {
     "name": "stderr",
     "output_type": "stream",
     "text": [
      "/tmp/ipykernel_1504422/2804652902.py:4: FutureWarning: The frame.append method is deprecated and will be removed from pandas in a future version. Use pandas.concat instead.\n",
      "  power_df = power_df.append(pd.DataFrame(powers2, index = [\"Case 1\"]))\n",
      "/tmp/ipykernel_1504422/2804652902.py:9: FutureWarning: The frame.append method is deprecated and will be removed from pandas in a future version. Use pandas.concat instead.\n",
      "  error_df = error_df.append(pd.DataFrame(power_confidence_intervals2, index = [\"Case 1\"]))\n",
      "/tmp/ipykernel_1504422/2804652902.py:20: FutureWarning: The frame.append method is deprecated and will be removed from pandas in a future version. Use pandas.concat instead.\n",
      "  annot_df = annot_df.append(pd.DataFrame(annot2, index = [\"Case 1\"]))\n"
     ]
    }
   ],
   "source": [
    "import pandas as pd\n",
    "\n",
    "power_df = pd.DataFrame(powers, index=[\"Case 2\"])\n",
    "power_df = power_df.append(pd.DataFrame(powers2, index = [\"Case 1\"]))\n",
    "\n",
    "\n",
    "\n",
    "error_df = pd.DataFrame(power_confidence_intervals, index=[\"Case 2\"])\n",
    "error_df = error_df.append(pd.DataFrame(power_confidence_intervals2, index = [\"Case 1\"]))\n",
    "\n",
    "annot1 = {}\n",
    "annot2 = {}\n",
    "\n",
    "for k in powers.keys():\n",
    "    print(k)\n",
    "    annot1[k] = (\"{:.3f}\\n($\\\\pm${:.3f})\".format(powers[k], power_confidence_intervals[k]))\n",
    "    annot2[k] = (\"{:.3f}\\n($\\\\pm${:.3f})\".format(powers2[k], power_confidence_intervals2[k]))\n",
    "\n",
    "annot_df = pd.DataFrame(annot1, index=[\"Case 2\"])\n",
    "annot_df = annot_df.append(pd.DataFrame(annot2, index = [\"Case 1\"]))\n",
    "\n",
    "# annot1 = [r\"{:.3f} ($\\pm$ {:.3f})\".format(powers[i], power_confidence_interval[i]) for i in range(len(powers))]\n",
    "# annot2 = [r\"{:.3f} ($\\pm$ {:.3f})\".format(powers2[i], power_confidence_interval2[i]) for i in range(len(powers2))]\n"
   ]
  },
  {
   "cell_type": "code",
   "execution_count": 102,
   "metadata": {},
   "outputs": [
    {
     "data": {
      "text/html": [
       "<div>\n",
       "<style scoped>\n",
       "    .dataframe tbody tr th:only-of-type {\n",
       "        vertical-align: middle;\n",
       "    }\n",
       "\n",
       "    .dataframe tbody tr th {\n",
       "        vertical-align: top;\n",
       "    }\n",
       "\n",
       "    .dataframe thead th {\n",
       "        text-align: right;\n",
       "    }\n",
       "</style>\n",
       "<table border=\"1\" class=\"dataframe\">\n",
       "  <thead>\n",
       "    <tr style=\"text-align: right;\">\n",
       "      <th></th>\n",
       "      <th>0.000000</th>\n",
       "      <th>0.111111</th>\n",
       "      <th>0.222222</th>\n",
       "      <th>0.333333</th>\n",
       "      <th>0.444444</th>\n",
       "      <th>0.555556</th>\n",
       "      <th>0.666667</th>\n",
       "      <th>0.777778</th>\n",
       "      <th>0.888889</th>\n",
       "      <th>1.000000</th>\n",
       "    </tr>\n",
       "  </thead>\n",
       "  <tbody>\n",
       "    <tr>\n",
       "      <th>Case 2</th>\n",
       "      <td>0.037\\n($\\pm$0.006)</td>\n",
       "      <td>0.279\\n($\\pm$0.013)</td>\n",
       "      <td>0.700\\n($\\pm$0.014)</td>\n",
       "      <td>0.881\\n($\\pm$0.010)</td>\n",
       "      <td>0.944\\n($\\pm$0.007)</td>\n",
       "      <td>0.969\\n($\\pm$0.005)</td>\n",
       "      <td>0.981\\n($\\pm$0.004)</td>\n",
       "      <td>0.988\\n($\\pm$0.003)</td>\n",
       "      <td>0.991\\n($\\pm$0.003)</td>\n",
       "      <td>0.992\\n($\\pm$0.003)</td>\n",
       "    </tr>\n",
       "    <tr>\n",
       "      <th>Case 1</th>\n",
       "      <td>0.042\\n($\\pm$0.009)</td>\n",
       "      <td>0.042\\n($\\pm$0.009)</td>\n",
       "      <td>0.049\\n($\\pm$0.009)</td>\n",
       "      <td>0.051\\n($\\pm$0.009)</td>\n",
       "      <td>0.055\\n($\\pm$0.010)</td>\n",
       "      <td>0.061\\n($\\pm$0.010)</td>\n",
       "      <td>0.062\\n($\\pm$0.010)</td>\n",
       "      <td>0.062\\n($\\pm$0.010)</td>\n",
       "      <td>0.070\\n($\\pm$0.011)</td>\n",
       "      <td>0.070\\n($\\pm$0.011)</td>\n",
       "    </tr>\n",
       "  </tbody>\n",
       "</table>\n",
       "</div>"
      ],
      "text/plain": [
       "                   0.000000             0.111111             0.222222  \\\n",
       "Case 2  0.037\\n($\\pm$0.006)  0.279\\n($\\pm$0.013)  0.700\\n($\\pm$0.014)   \n",
       "Case 1  0.042\\n($\\pm$0.009)  0.042\\n($\\pm$0.009)  0.049\\n($\\pm$0.009)   \n",
       "\n",
       "                   0.333333             0.444444             0.555556  \\\n",
       "Case 2  0.881\\n($\\pm$0.010)  0.944\\n($\\pm$0.007)  0.969\\n($\\pm$0.005)   \n",
       "Case 1  0.051\\n($\\pm$0.009)  0.055\\n($\\pm$0.010)  0.061\\n($\\pm$0.010)   \n",
       "\n",
       "                   0.666667             0.777778             0.888889  \\\n",
       "Case 2  0.981\\n($\\pm$0.004)  0.988\\n($\\pm$0.003)  0.991\\n($\\pm$0.003)   \n",
       "Case 1  0.062\\n($\\pm$0.010)  0.062\\n($\\pm$0.010)  0.070\\n($\\pm$0.011)   \n",
       "\n",
       "                   1.000000  \n",
       "Case 2  0.992\\n($\\pm$0.003)  \n",
       "Case 1  0.070\\n($\\pm$0.011)  "
      ]
     },
     "execution_count": 102,
     "metadata": {},
     "output_type": "execute_result"
    }
   ],
   "source": [
    "annot_df"
   ]
  },
  {
   "cell_type": "code",
   "execution_count": 103,
   "metadata": {},
   "outputs": [
    {
     "data": {
      "text/plain": [
       "{0.0: 0.0372,\n",
       " 0.1111111111111111: 0.2786,\n",
       " 0.2222222222222222: 0.6995,\n",
       " 0.3333333333333333: 0.8806,\n",
       " 0.4444444444444444: 0.944,\n",
       " 0.5555555555555556: 0.969,\n",
       " 0.6666666666666666: 0.9813,\n",
       " 0.7777777777777777: 0.9879,\n",
       " 0.8888888888888888: 0.9905,\n",
       " 1.0: 0.9915}"
      ]
     },
     "execution_count": 103,
     "metadata": {},
     "output_type": "execute_result"
    }
   ],
   "source": [
    "powers"
   ]
  },
  {
   "cell_type": "code",
   "execution_count": 104,
   "metadata": {},
   "outputs": [],
   "source": [
    "labels = [r\"0\", r\"$\\frac{1}{9}$\", r\"$\\frac{2}{9}$\", r\"$\\frac{3}{9}$\", r\"$\\frac{4}{9}$\", r\"$\\frac{5}{9}$\", r\"$\\frac{6}{9}$\",r\"$\\frac{7}{9}$\", r\"$\\frac{8}{9}$\", r\"1\"]"
   ]
  },
  {
   "cell_type": "code",
   "execution_count": 105,
   "metadata": {},
   "outputs": [],
   "source": [
    "power_df_fancy = power_df.copy()"
   ]
  },
  {
   "cell_type": "code",
   "execution_count": 106,
   "metadata": {},
   "outputs": [
    {
     "data": {
      "text/html": [
       "<div>\n",
       "<style scoped>\n",
       "    .dataframe tbody tr th:only-of-type {\n",
       "        vertical-align: middle;\n",
       "    }\n",
       "\n",
       "    .dataframe tbody tr th {\n",
       "        vertical-align: top;\n",
       "    }\n",
       "\n",
       "    .dataframe thead th {\n",
       "        text-align: right;\n",
       "    }\n",
       "</style>\n",
       "<table border=\"1\" class=\"dataframe\">\n",
       "  <thead>\n",
       "    <tr style=\"text-align: right;\">\n",
       "      <th></th>\n",
       "      <th>0.000000</th>\n",
       "      <th>0.111111</th>\n",
       "      <th>0.222222</th>\n",
       "      <th>0.333333</th>\n",
       "      <th>0.444444</th>\n",
       "      <th>0.555556</th>\n",
       "      <th>0.666667</th>\n",
       "      <th>0.777778</th>\n",
       "      <th>0.888889</th>\n",
       "      <th>1.000000</th>\n",
       "    </tr>\n",
       "  </thead>\n",
       "  <tbody>\n",
       "    <tr>\n",
       "      <th>Case 2</th>\n",
       "      <td>0.0372</td>\n",
       "      <td>0.2786</td>\n",
       "      <td>0.6995</td>\n",
       "      <td>0.8806</td>\n",
       "      <td>0.9440</td>\n",
       "      <td>0.9690</td>\n",
       "      <td>0.9813</td>\n",
       "      <td>0.9879</td>\n",
       "      <td>0.9905</td>\n",
       "      <td>0.9915</td>\n",
       "    </tr>\n",
       "    <tr>\n",
       "      <th>Case 1</th>\n",
       "      <td>0.0422</td>\n",
       "      <td>0.0420</td>\n",
       "      <td>0.0486</td>\n",
       "      <td>0.0514</td>\n",
       "      <td>0.0552</td>\n",
       "      <td>0.0606</td>\n",
       "      <td>0.0618</td>\n",
       "      <td>0.0624</td>\n",
       "      <td>0.0696</td>\n",
       "      <td>0.0696</td>\n",
       "    </tr>\n",
       "  </tbody>\n",
       "</table>\n",
       "</div>"
      ],
      "text/plain": [
       "        0.000000  0.111111  0.222222  0.333333  0.444444  0.555556  0.666667  \\\n",
       "Case 2    0.0372    0.2786    0.6995    0.8806    0.9440    0.9690    0.9813   \n",
       "Case 1    0.0422    0.0420    0.0486    0.0514    0.0552    0.0606    0.0618   \n",
       "\n",
       "        0.777778  0.888889  1.000000  \n",
       "Case 2    0.9879    0.9905    0.9915  \n",
       "Case 1    0.0624    0.0696    0.0696  "
      ]
     },
     "execution_count": 106,
     "metadata": {},
     "output_type": "execute_result"
    }
   ],
   "source": [
    "power_df_fancy"
   ]
  },
  {
   "cell_type": "code",
   "execution_count": 107,
   "metadata": {},
   "outputs": [],
   "source": [
    "power_df_fancy.columns = labels\n",
    "error_df.columns = labels"
   ]
  },
  {
   "cell_type": "code",
   "execution_count": 108,
   "metadata": {},
   "outputs": [],
   "source": [
    "annot_df_fancy = annot_df.copy()"
   ]
  },
  {
   "cell_type": "code",
   "execution_count": 109,
   "metadata": {},
   "outputs": [
    {
     "data": {
      "text/html": [
       "<div>\n",
       "<style scoped>\n",
       "    .dataframe tbody tr th:only-of-type {\n",
       "        vertical-align: middle;\n",
       "    }\n",
       "\n",
       "    .dataframe tbody tr th {\n",
       "        vertical-align: top;\n",
       "    }\n",
       "\n",
       "    .dataframe thead th {\n",
       "        text-align: right;\n",
       "    }\n",
       "</style>\n",
       "<table border=\"1\" class=\"dataframe\">\n",
       "  <thead>\n",
       "    <tr style=\"text-align: right;\">\n",
       "      <th></th>\n",
       "      <th>0</th>\n",
       "      <th>$\\frac{1}{9}$</th>\n",
       "      <th>$\\frac{2}{9}$</th>\n",
       "      <th>$\\frac{3}{9}$</th>\n",
       "      <th>$\\frac{4}{9}$</th>\n",
       "      <th>$\\frac{5}{9}$</th>\n",
       "      <th>$\\frac{6}{9}$</th>\n",
       "      <th>$\\frac{7}{9}$</th>\n",
       "      <th>$\\frac{8}{9}$</th>\n",
       "      <th>1</th>\n",
       "    </tr>\n",
       "  </thead>\n",
       "  <tbody>\n",
       "    <tr>\n",
       "      <th>Case 2</th>\n",
       "      <td>0.037\\n($\\pm$0.006)</td>\n",
       "      <td>0.279\\n($\\pm$0.013)</td>\n",
       "      <td>0.700\\n($\\pm$0.014)</td>\n",
       "      <td>0.881\\n($\\pm$0.010)</td>\n",
       "      <td>0.944\\n($\\pm$0.007)</td>\n",
       "      <td>0.969\\n($\\pm$0.005)</td>\n",
       "      <td>0.981\\n($\\pm$0.004)</td>\n",
       "      <td>0.988\\n($\\pm$0.003)</td>\n",
       "      <td>0.991\\n($\\pm$0.003)</td>\n",
       "      <td>0.992\\n($\\pm$0.003)</td>\n",
       "    </tr>\n",
       "    <tr>\n",
       "      <th>Case 1</th>\n",
       "      <td>0.042\\n($\\pm$0.009)</td>\n",
       "      <td>0.042\\n($\\pm$0.009)</td>\n",
       "      <td>0.049\\n($\\pm$0.009)</td>\n",
       "      <td>0.051\\n($\\pm$0.009)</td>\n",
       "      <td>0.055\\n($\\pm$0.010)</td>\n",
       "      <td>0.061\\n($\\pm$0.010)</td>\n",
       "      <td>0.062\\n($\\pm$0.010)</td>\n",
       "      <td>0.062\\n($\\pm$0.010)</td>\n",
       "      <td>0.070\\n($\\pm$0.011)</td>\n",
       "      <td>0.070\\n($\\pm$0.011)</td>\n",
       "    </tr>\n",
       "  </tbody>\n",
       "</table>\n",
       "</div>"
      ],
      "text/plain": [
       "                          0        $\\frac{1}{9}$        $\\frac{2}{9}$  \\\n",
       "Case 2  0.037\\n($\\pm$0.006)  0.279\\n($\\pm$0.013)  0.700\\n($\\pm$0.014)   \n",
       "Case 1  0.042\\n($\\pm$0.009)  0.042\\n($\\pm$0.009)  0.049\\n($\\pm$0.009)   \n",
       "\n",
       "              $\\frac{3}{9}$        $\\frac{4}{9}$        $\\frac{5}{9}$  \\\n",
       "Case 2  0.881\\n($\\pm$0.010)  0.944\\n($\\pm$0.007)  0.969\\n($\\pm$0.005)   \n",
       "Case 1  0.051\\n($\\pm$0.009)  0.055\\n($\\pm$0.010)  0.061\\n($\\pm$0.010)   \n",
       "\n",
       "              $\\frac{6}{9}$        $\\frac{7}{9}$        $\\frac{8}{9}$  \\\n",
       "Case 2  0.981\\n($\\pm$0.004)  0.988\\n($\\pm$0.003)  0.991\\n($\\pm$0.003)   \n",
       "Case 1  0.062\\n($\\pm$0.010)  0.062\\n($\\pm$0.010)  0.070\\n($\\pm$0.011)   \n",
       "\n",
       "                          1  \n",
       "Case 2  0.992\\n($\\pm$0.003)  \n",
       "Case 1  0.070\\n($\\pm$0.011)  "
      ]
     },
     "execution_count": 109,
     "metadata": {},
     "output_type": "execute_result"
    }
   ],
   "source": [
    "annot_df_fancy.columns = labels\n",
    "annot_df_fancy"
   ]
  },
  {
   "cell_type": "code",
   "execution_count": 145,
   "metadata": {},
   "outputs": [
    {
     "name": "stderr",
     "output_type": "stream",
     "text": [
      "<>:30: DeprecationWarning: invalid escape sequence \\D\n",
      "/home/ashilova/miniconda3/envs/rlberry/lib/python3.8/site-packages/seaborn/matrix.py:213: MatplotlibDeprecationWarning: The get_cmap function was deprecated in Matplotlib 3.7 and will be removed two minor releases later. Use ``matplotlib.colormaps[name]`` or ``matplotlib.colormaps.get_cmap(obj)`` instead.\n",
      "  self.cmap = mpl.cm.get_cmap(cmap)\n"
     ]
    },
    {
     "name": "stdout",
     "output_type": "stream",
     "text": [
      "[Text(1, 0.0, '0.00'), Text(1, 0.05, '0.05'), Text(1, 0.2, '0.20'), Text(1, 0.4, '0.40'), Text(1, 0.6, '0.60'), Text(1, 0.8, '0.80'), Text(1, 1.0, '1.00')]\n"
     ]
    },
    {
     "data": {
      "image/png": "[encoded data removed]",
      "text/plain": [
       "<Figure size 1440x216 with 2 Axes>"
      ]
     },
     "metadata": {
      "needs_background": "light"
     },
     "output_type": "display_data"
    }
   ],
   "source": [
    "import sys\n",
    "import matplotlib\n",
    "import os\n",
    "import seaborn as sns\n",
    "home_folder = os.environ[\"HOME\"]\n",
    "workdir = os.path.join(home_folder,\"Adaptive_stopping_MC_RL\",\"adastop\", \"example_simulatedR\")\n",
    "sys.path.insert(0, workdir)\n",
    "\n",
    "# plt.rcParams.update({\n",
    "#     \"text.usetex\": True,\n",
    "#     \"font.family\": \"Helvetica\"\n",
    "# })\n",
    "\n",
    "plt.rcParams.update({'font.size': 15})\n",
    "\n",
    "\n",
    "fig, ax1 = plt.subplots(1,1, figsize=(20,3))\n",
    "\n",
    "# sns.heatmap(power_df_fancy, vmin = 0, vmax=1, annot=annot_df_fancy, fmt=\"s\", linewidths=.5, ax=ax1, cmap = \"Spectral\", center = 0.05)\n",
    "# sns.heatmap(power_df_fancy, annot=annot_df_fancy, fmt=\"s\", linewidths=.5, ax=ax1, cmap = \"coolwarm\", norm = matplotlib.colors.PowerNorm(0.23137821315975918))\n",
    "sns.heatmap(power_df_fancy, annot=annot_df_fancy, fmt=\"s\", linewidths=.5, ax=ax1, cmap = \"coolwarm\", norm = matplotlib.colors.PowerNorm(0.18), cbar_kws={\"ticks\": [0, 0.05, 0.2, 0.4, 0.6, 0.8, 1]})\n",
    "cbar = ax1.collections[0].colorbar\n",
    "\n",
    "ticklabs = cbar.ax.get_yticklabels()\n",
    "# ticklabs +=[\"0.05\"]\n",
    "print(ticklabs)\n",
    "\n",
    "cbar.ax.set_yticklabels(ticklabs, fontsize=11)\n",
    "\n",
    "plt.xlabel(\"$\\Delta$\")\n",
    "plt.ylabel(\"rejection frequency\")\n",
    "\n",
    "\n",
    "\n",
    "\n",
    "# plt.axhline(y = 0.05, color = 'r', linestyle = '--')\n",
    "# plt.axhline(y = 1, color = 'r', linestyle = '-')\n",
    "# plt.axhline(y = 0., color = 'r', linestyle = '-')\n",
    "# plt.ylim((0,1))\n",
    "# plt.yticks(np.append(np.linspace(0,1,6),0.05))\n",
    "# plt.errorbar(powers.keys(), powers.values(), list(power_confidence_intervals.values()), linestyle='None', fmt = \"none\", capsize=5, label = \"different mean\", color = \"#8856a7\", linewidth=4)\n",
    "# plt.errorbar(powers.keys(), powers.values(), list(power_stds.values()), linestyle='None', marker= 'o', capsize=3)\n",
    "# plt.errorbar(powers2.keys(), powers2.values(), list(power_confidence_intervals2.values()), linestyle='None', fmt = \"none\", capsize=5, label = \"same mean\", color = '#43a2ca', linewidth = 4)\n",
    "# plt.ylabel(\"frequency of rejection\")\n",
    "# plt.xlabel(\"$\\Delta$\")\n",
    "# plt.legend(loc = \"right\")\n",
    "\n",
    "plt.savefig(os.path.join(workdir, \"gaussianVSmg_exp1-2.png\"))\n",
    "plt.savefig(os.path.join(workdir, \"gaussianVSmg_exp1-2.pdf\"), bbox_inches='tight')"
   ]
  },
  {
   "cell_type": "code",
   "execution_count": 132,
   "metadata": {},
   "outputs": [
    {
     "data": {
      "text/plain": [
       "<Axes.ArtistList of 0 images>"
      ]
     },
     "execution_count": 132,
     "metadata": {},
     "output_type": "execute_result"
    }
   ],
   "source": [
    "ax1.images"
   ]
  },
  {
   "cell_type": "code",
   "execution_count": null,
   "metadata": {},
   "outputs": [
    {
     "name": "stderr",
     "output_type": "stream",
     "text": [
      "<>:30: DeprecationWarning: invalid escape sequence \\D\n"
     ]
    },
    {
     "data": {
      "image/png": "[encoded data removed]",
      "text/plain": [
       "<Figure size 936x432 with 1 Axes>"
      ]
     },
     "metadata": {},
     "output_type": "display_data"
    }
   ],
   "source": [
    "import sys\n",
    "import os\n",
    "import seaborn\n",
    "\n",
    "# plt.rcParams.update({\n",
    "#     \"text.usetex\": True,\n",
    "#     \"font.family\": \"Helvetica\"\n",
    "# })\n",
    "\n",
    "plt.rcParams.update({'font.size': 15})\n",
    "\n",
    "\n",
    "plt.figure(figsize=(13,6))\n",
    "\n",
    "\n",
    "\n",
    "home_folder = os.environ[\"HOME\"]\n",
    "workdir = os.path.join(home_folder,\"Adaptive_stopping_MC_RL\",\"adastop\", \"example_simulatedR\")\n",
    "sys.path.insert(0, workdir)\n",
    "\n",
    "\n",
    "\n",
    "plt.axhline(y = 0.05, color = 'r', linestyle = '--')\n",
    "# plt.axhline(y = 1, color = 'r', linestyle = '-')\n",
    "# plt.axhline(y = 0., color = 'r', linestyle = '-')\n",
    "plt.ylim((0,1))\n",
    "plt.yticks(np.append(np.linspace(0,1,6),0.05))\n",
    "plt.errorbar(powers.keys(), powers.values(), list(power_confidence_intervals.values()), linestyle='None', fmt = \"none\", capsize=5, label = \"different mean\", color = \"#8856a7\", linewidth=4)\n",
    "# plt.errorbar(powers.keys(), powers.values(), list(power_stds.values()), linestyle='None', marker= 'o', capsize=3)\n",
    "plt.errorbar(powers2.keys(), powers2.values(), list(power_confidence_intervals2.values()), linestyle='None', fmt = \"none\", capsize=5, label = \"same mean\", color = '#43a2ca', linewidth = 4)\n",
    "plt.ylabel(\"frequency of rejection\")\n",
    "plt.xlabel(\"$\\Delta$\")\n",
    "plt.legend(loc = \"right\")\n",
    "\n",
    "plt.savefig(os.path.join(workdir, \"gaussianVSmg_exp1-2.png\"))\n",
    "plt.savefig(os.path.join(workdir, \"gaussianVSmg_exp1-2.pdf\"), bbox_inches='tight')"
   ]
  },
  {
   "attachments": {},
   "cell_type": "markdown",
   "metadata": {},
   "source": [
    "## Analysing FWE"
   ]
  },
  {
   "cell_type": "code",
   "execution_count": 147,
   "metadata": {},
   "outputs": [],
   "source": [
    "import seaborn as sns\n",
    "\n",
    "def plot_results_table(comp, fname, agent_names=None, axes = None):\n",
    "    \"\"\"\n",
    "    visual representation of results.\n",
    "\n",
    "    Parameters\n",
    "    ----------\n",
    "    agent_names : list of str or None\n",
    "    axes : tuple of two matplotlib axes of None\n",
    "            if None, use the following:\n",
    "            `fig, (ax1, ax2) = plt.subplots(2, 1, gridspec_kw={\"height_ratios\": [1, 2]}, figsize=(6,5))`\n",
    "    \"\"\"\n",
    "\n",
    "    id_sort = np.argsort(comp.mean_eval_values)\n",
    "    # Z = [comp.eval_values[comp.agent_names[i]] for i  in id_sort]\n",
    "\n",
    "    if agent_names is None:\n",
    "        agent_names = comp.agent_names\n",
    "\n",
    "    links = np.zeros([len(agent_names),len(agent_names)])\n",
    "\n",
    "    for i in range(len(comp.comparisons)):\n",
    "        c = comp.comparisons[i]\n",
    "        decision = comp.decisions[str(c)]\n",
    "        if decision == \"equal\":\n",
    "            links[c[0],c[1]] = 0\n",
    "\n",
    "        elif decision == \"larger\":\n",
    "            links[c[0],c[1]] = 1\n",
    "\n",
    "        else:\n",
    "            links[c[0],c[1]] = -1\n",
    "\n",
    "\n",
    "    links = links - links.T\n",
    "    links = links[id_sort,:][:, id_sort]\n",
    "    links = links + 2*np.eye(len(links))\n",
    "    print(links)\n",
    "    annot = []\n",
    "    for i in range(len(links)):\n",
    "        annot_i = []\n",
    "        for j in range(len(links)):\n",
    "            if i == j:\n",
    "                annot_i.append(\" \")                    \n",
    "            elif links[i,j] == 0:\n",
    "                annot_i.append(\"${\\\\rightarrow  =}\\downarrow$\")\n",
    "            elif links[i,j] == 1:\n",
    "                annot_i.append(\"${\\\\rightarrow \\geq}\\downarrow$\")\n",
    "            else:\n",
    "                annot_i.append(\"${\\\\rightarrow  \\leq}\\downarrow$\")\n",
    "        annot+= [annot_i]\n",
    "\n",
    "    # if axes is None:\n",
    "    #     fig, (ax1, ax2) = plt.subplots(\n",
    "    #         2, 1, gridspec_kw={\"height_ratios\": [1, 2]}, figsize=(6,5)\n",
    "    #     )\n",
    "    # else:\n",
    "    #     (ax1, ax2) = axes\n",
    "\n",
    "    ax1 = plt.gca()\n",
    "\n",
    "    n_iterations = [comp.n_iters[comp.agent_names[i]] for i in id_sort]\n",
    "    the_table = ax1.table(\n",
    "        cellText=[n_iterations], rowLabels=[\"n_iter\"], loc=\"top\", cellLoc=\"center\"\n",
    "    )\n",
    "\n",
    "    # # Generate a custom colormap\n",
    "    # colors = np.array([(103,169,207), (153,153,153), (239,138,98), (255,255,255)])/256\n",
    "    # cmap = LinearSegmentedColormap.from_list(\"my_cmap\", colors, N=4)\n",
    "\n",
    "    # Draw the heatmap with the mask and correct aspect ratio\n",
    "    res = sns.heatmap(links, annot = annot, cmap=\"Set2\", vmax=2, center=0,linewidths=.5, ax =ax1, \n",
    "                        cbar=False, yticklabels=np.array(agent_names)[id_sort],  \n",
    "                        xticklabels=np.array(agent_names)[id_sort],fmt='')\n",
    "\n",
    "    # Drawing the frame\n",
    "    for _, spine in res.spines.items():\n",
    "        spine.set_visible(True)\n",
    "        spine.set_linewidth(1)\n",
    "\n",
    "    plt.savefig(fname)\n",
    "    plt.close()\n",
    "\n",
    "    # box_plot = ax2.boxplot(Z, labels=np.array(agent_names)[id_sort], showmeans=True)\n",
    "    # for mean in box_plot['means']:\n",
    "    #     mean.set_alpha(0.6)\n",
    "\n",
    "    # ax2.xaxis.set_label([])\n",
    "    # ax2.xaxis.tick_top()\n",
    "    \n",
    "\n",
    "def plot_results_boxplot(comp, fname, agent_names=None, axes = None):\n",
    "    id_sort = np.argsort(comp.mean_eval_values)\n",
    "    Z = [comp.eval_values[comp.agent_names[i]] for i  in id_sort]\n",
    "    # Set up the matplotlib figure\n",
    "    f, ax2 = plt.subplots(figsize=(11, 6))\n",
    "    # ax2 = plt.gca()\n",
    "    pos = np.arange(len(Z))\n",
    "\n",
    "\n",
    "    # box_plot = ax2.violinplot(Z, pos, showmeans=True)\n",
    "    # for mean in box_plot['cmeans']:\n",
    "    #     mean.set_alpha(0.6)\n",
    "\n",
    "    # df = pd.DataFrame(Z.T, columns=np.array(agent_names)[id_sort])\n",
    "\n",
    "    sns.violinplot(data=Z, palette=\"Set3\", linewidth=1, scale=\"width\")\n",
    "    # sns.violinplot(data=Z, palette=\"Set3\", bw=.2, linewidth=1, scale=\"width\")\n",
    "\n",
    "    ax2.xaxis.set_label([])\n",
    "    ax2.xaxis.tick_top()\n",
    "    ax2.set_xticks(pos)\n",
    "    ax2.set_xticklabels(np.array(agent_names)[id_sort])\n",
    "    # sns.despine(left=True, bottom=True)\n",
    "\n",
    "    plt.savefig(fname)"
   ]
  },
  {
   "cell_type": "code",
   "execution_count": 148,
   "metadata": {},
   "outputs": [],
   "source": [
    "# path_res = \"./mgres\"\n",
    "path_res3 = \"/home/ashilova/Adaptive_stopping_MC_RL/adastop/example_simulatedR/multc_sd_res/exp4\""
   ]
  },
  {
   "cell_type": "code",
   "execution_count": 149,
   "metadata": {},
   "outputs": [],
   "source": [
    "true_hyp = [[0,1], [2,3], [6,7]]\n",
    "true_hyp_means = [[0,1], [0,2], [0,3], [0,4], [1,2], [1,3], [1,4], [2,3], [2,4], [3,4], [0,5], [1,5], [2,5], [3,5], [4,5], [6,7], [6,8], [7,8]]"
   ]
  },
  {
   "cell_type": "code",
   "execution_count": 150,
   "metadata": {},
   "outputs": [],
   "source": [
    "li = os.listdir(path_res3)\n",
    "n_iters3 = {}\n",
    "decs3 = {}\n",
    "\n",
    "\n",
    "elem_path = os.path.join(path_res3, li[18])\n",
    "with open(elem_path,\"rb\") as f:\n",
    "    params0, comp0 = pickle.load(f)\n"
   ]
  },
  {
   "cell_type": "code",
   "execution_count": 151,
   "metadata": {},
   "outputs": [
    {
     "data": {
      "text/plain": [
       "['N', '*N', '*MG1', 'MG1', 'MG2', 'tS1', 'MG3', '*MG3', 'MtS', 'tS2']"
      ]
     },
     "execution_count": 151,
     "metadata": {},
     "output_type": "execute_result"
    }
   ],
   "source": [
    "comp0.agent_names"
   ]
  },
  {
   "cell_type": "code",
   "execution_count": 152,
   "metadata": {},
   "outputs": [],
   "source": [
    "li = os.listdir(path_res3)\n",
    "n_tests = len(li)\n",
    "n_iters3 = {}\n",
    "nrej3 = 0\n",
    "nrej3_means= 0\n",
    "for elem in li:\n",
    "    elem_path = os.path.join(path_res3, elem)\n",
    "    with open(elem_path,\"rb\") as f:\n",
    "        params, comp = pickle.load(f)\n",
    "    # dmu = params[\"dist_params\"]\n",
    "\n",
    "    # if dmu in n_iters3.keys():\n",
    "    #     n_iters3[dmu].append(list(comp.n_iters3.values())[0] / 2)\n",
    "    # else:\n",
    "    #     n_iters3[dmu] = [list(comp.n_iters3.values())[0] / 2]\n",
    "\n",
    "    for h in true_hyp:\n",
    "        key = \"[{} {}]\".format(h[0], h[1])\n",
    "        if comp.decisions[key] != \"equal\":\n",
    "            nrej3 += 1\n",
    "            break\n",
    "\n",
    "\n",
    "    for h in true_hyp_means:\n",
    "        key = \"[{} {}]\".format(h[0], h[1])\n",
    "        if comp.decisions[key] != \"equal\":\n",
    "            nrej3_means += 1\n",
    "            break\n",
    "        \n",
    "\n"
   ]
  },
  {
   "cell_type": "code",
   "execution_count": 153,
   "metadata": {},
   "outputs": [
    {
     "data": {
      "text/plain": [
       "234"
      ]
     },
     "execution_count": 153,
     "metadata": {},
     "output_type": "execute_result"
    }
   ],
   "source": [
    "nrej3_means"
   ]
  },
  {
   "cell_type": "code",
   "execution_count": 154,
   "metadata": {},
   "outputs": [
    {
     "data": {
      "text/plain": [
       "(0.0178, 0.0468)"
      ]
     },
     "execution_count": 154,
     "metadata": {},
     "output_type": "execute_result"
    }
   ],
   "source": [
    "FWE = nrej3/n_tests\n",
    "\n",
    "FWE_means = nrej3_means/ n_tests\n",
    "\n",
    "FWE, FWE_means"
   ]
  },
  {
   "cell_type": "markdown",
   "metadata": {},
   "source": [
    "Note that in the following we plot 3 stds to cover 99% confidence interval"
   ]
  },
  {
   "cell_type": "code",
   "execution_count": 162,
   "metadata": {},
   "outputs": [
    {
     "name": "stderr",
     "output_type": "stream",
     "text": [
      "<>:93: DeprecationWarning: invalid escape sequence \\g\n",
      "<>:95: DeprecationWarning: invalid escape sequence \\l\n",
      "<>:91: DeprecationWarning: invalid escape sequence \\d\n"
     ]
    },
    {
     "name": "stdout",
     "output_type": "stream",
     "text": [
      "[[0. 1. 1. 1. 1. 1. 0. 1. 0. 0.]\n",
      " [1. 0. 1. 1. 1. 1. 0. 1. 0. 0.]\n",
      " [1. 1. 0. 1. 1. 1. 0. 1. 0. 0.]\n",
      " [1. 1. 1. 0. 1. 1. 0. 1. 0. 0.]\n",
      " [1. 1. 1. 1. 0. 1. 0. 1. 0. 0.]\n",
      " [1. 1. 1. 1. 1. 0. 0. 1. 0. 0.]\n",
      " [2. 2. 2. 2. 2. 2. 0. 1. 1. 0.]\n",
      " [1. 1. 1. 1. 1. 1. 1. 0. 1. 0.]\n",
      " [2. 2. 2. 2. 2. 2. 1. 1. 0. 0.]\n",
      " [2. 2. 2. 2. 2. 2. 2. 2. 2. 0.]]\n",
      "[[4. 1. 1. 1. 1. 1. 1. 0. 0. 0.]\n",
      " [1. 4. 1. 1. 1. 1. 1. 0. 0. 0.]\n",
      " [1. 1. 4. 1. 1. 1. 1. 0. 0. 0.]\n",
      " [1. 1. 1. 4. 1. 1. 1. 0. 0. 0.]\n",
      " [1. 1. 1. 1. 4. 1. 1. 0. 0. 0.]\n",
      " [1. 1. 1. 1. 1. 4. 1. 0. 0. 0.]\n",
      " [1. 1. 1. 1. 1. 1. 4. 1. 1. 0.]\n",
      " [2. 2. 2. 2. 2. 2. 1. 4. 1. 0.]\n",
      " [2. 2. 2. 2. 2. 2. 1. 1. 4. 0.]\n",
      " [2. 2. 2. 2. 2. 2. 2. 2. 2. 4.]]\n",
      "[(0.984313725490196, 0.7058823529411765, 0.6823529411764706), 'lightgray', (0.7019607843137254, 0.803921568627451, 0.8901960784313725), 'white']\n"
     ]
    },
    {
     "name": "stderr",
     "output_type": "stream",
     "text": [
      "/home/ashilova/miniconda3/envs/rlberry/lib/python3.8/site-packages/seaborn/palettes.py:443: MatplotlibDeprecationWarning: The get_cmap function was deprecated in Matplotlib 3.7 and will be removed two minor releases later. Use ``matplotlib.colormaps[name]`` or ``matplotlib.colormaps.get_cmap(obj)`` instead.\n",
      "  cmap = mpl.cm.get_cmap(name)\n"
     ]
    },
    {
     "data": {
      "image/png": "[encoded data removed]",
      "text/plain": [
       "<Figure size 1224x432 with 2 Axes>"
      ]
     },
     "metadata": {},
     "output_type": "display_data"
    }
   ],
   "source": [
    "\n",
    "plt.rcParams.update({'font.size': 15})\n",
    "\n",
    "home_folder = os.environ[\"HOME\"]\n",
    "workdir = os.path.join(home_folder,\"Adaptive_stopping_MC_RL\",\"adastop\", \"example_simulatedR\")\n",
    "sys.path.insert(0, workdir)\n",
    "\n",
    "\n",
    "\n",
    "\n",
    "\n",
    "fig, (ax2, ax3) = plt.subplots(1, 2, figsize=(17, 6), gridspec_kw={'width_ratios':  [6,7]})\n",
    "fig.tight_layout()\n",
    "\n",
    "# ax1.axhline(y = 0.05, color = 'r', linestyle = '--')\n",
    "# # plt.axhline(y = 1, color = 'r', linestyle = '-')\n",
    "# # plt.axhline(y = 0., color = 'r', linestyle = '-')\n",
    "# ax1.set_ylim((0,1))\n",
    "# ax1.set_yticks(np.append(np.linspace(0,1,6),0.05))\n",
    "# ax1.errorbar(powers.keys(), powers.values(), list(power_confidence_intervals.values()), linestyle='None', fmt = \"none\", capsize=4, label = \"different mean\", color = \"#8856a7\", linewidth=3)\n",
    "# # plt.errorbar(powers.keys(), powers.values(), list(power_stds.values()), linestyle='None', marker= 'o', capsize=3)\n",
    "# ax1.errorbar(powers2.keys(), powers2.values(), list(power_confidence_intervals2.values()), linestyle='None', fmt = \"none\", capsize=4, label = \"same mean\", color = '#43a2ca', linewidth = 3)\n",
    "# ax1.set_ylabel(\"frequency of rejection\")\n",
    "# ax1.set_xlabel(\"$\\Delta$\")\n",
    "# ax1.legend(loc = \"right\")\n",
    "\n",
    "\n",
    "\n",
    "\n",
    "comp = comp0\n",
    "agent_names = [\"N\", \"*N\", \"*MG1\", \"MG1\", \"MG2\", \"tS1\", \"MG3\", \"*MG3\", \"MtS\", \"tS2\"]\n",
    "\n",
    "\n",
    "id_sort = np.argsort(comp.mean_eval_values)\n",
    "# Z = [comp.eval_values[comp.agent_names[i]] for i  in id_sort]\n",
    "\n",
    "if agent_names is None:\n",
    "    agent_names = comp.agent_names\n",
    "\n",
    "links = np.zeros([len(agent_names),len(agent_names)])\n",
    "\n",
    "\n",
    "decisions = {\n",
    "        'smaller': 0,\n",
    "        'equal': 1,\n",
    "        'larger': 2,\n",
    "        'na': 4,\n",
    "    }\n",
    "\n",
    "# for i in range(len(comp.comparisons)):\n",
    "#     c = comp.comparisons[i]\n",
    "#     decision = comp.decisions[str(c)]\n",
    "#     if decision == \"equal\":\n",
    "#         links[c[0],c[1]] = 0\n",
    "\n",
    "#     elif decision == \"larger\":\n",
    "#         links[c[0],c[1]] = 1\n",
    "\n",
    "#     else:\n",
    "#         links[c[0],c[1]] = -1\n",
    "\n",
    "for i in range(len(comp.comparisons)):\n",
    "    c = comp.comparisons[i]\n",
    "    decision = comp.decisions[str(c)]\n",
    "    if decision == \"equal\":\n",
    "        links[c[0],c[1]] = decisions['equal']\n",
    "        links[c[1],c[0]] = decisions['equal']\n",
    "    elif decision == \"larger\":\n",
    "        links[c[0],c[1]] = decisions['larger']\n",
    "        links[c[1],c[0]] = decisions['smaller']\n",
    "    else:\n",
    "        links[c[0],c[1]] = decisions['smaller']\n",
    "        links[c[1],c[0]] = decisions['larger']\n",
    "print(links)\n",
    "\n",
    "\n",
    "# links = links - links.T\n",
    "\n",
    "\n",
    "\n",
    "links = links[id_sort,:][:, id_sort]\n",
    "links = links + decisions['na'] * np.eye(len(links))\n",
    "# links = links + 2*np.eye(len(links))\n",
    "print(links)\n",
    "annot = []\n",
    "for i in range(len(links)):\n",
    "    annot_i = []\n",
    "    for j in range(len(links)):\n",
    "        if i == j:\n",
    "            annot_i.append(\" \")                    \n",
    "        elif links[i,j] == 0:\n",
    "            annot_i.append(\"${\\\\rightarrow  =}\\downarrow$\")\n",
    "        elif links[i,j] == 1:\n",
    "            annot_i.append(\"${\\\\rightarrow \\geq}\\downarrow$\")\n",
    "        else:\n",
    "            annot_i.append(\"${\\\\rightarrow  \\leq}\\downarrow$\")\n",
    "    annot+= [annot_i]\n",
    "\n",
    "# if axes is None:\n",
    "#     fig, (ax1, ax2) = plt.subplots(\n",
    "#         2, 1, gridspec_kw={\"height_ratios\": [1, 2]}, figsize=(6,5)\n",
    "#     )\n",
    "# else:\n",
    "#     (ax1, ax2) = axes\n",
    "\n",
    "\n",
    "n_iterations = [comp.n_iters[comp.agent_names[i]] for i in id_sort]\n",
    "the_table = ax2.table(\n",
    "    cellText=[n_iterations], rowLabels=[\"n_iter\"], loc=\"top\", cellLoc=\"center\", edges=\"open\"\n",
    ")\n",
    "\n",
    "\n",
    "from matplotlib.colors import ListedColormap\n",
    "\n",
    "colors = matplotlib.colormaps['Pastel1'].colors\n",
    "colors = [colors[0], 'lightgray', colors[1], 'white']\n",
    "print(colors)\n",
    "cmap = ListedColormap(colors, name=\"my_cmap\")\n",
    "\n",
    "# # Generate a custom colormap\n",
    "# colors = np.array([(103,169,207), (153,153,153), (239,138,98), (255,255,255)])/256\n",
    "# cmap = LinearSegmentedColormap.from_list(\"my_cmap\", colors, N=4)\n",
    "\n",
    "# Draw the heatmap with the mask and correct aspect ratio\n",
    "res = sns.heatmap(links, annot = annot, cmap=cmap, #vmax=2, center=0,\n",
    "                  linewidths=.5, ax =ax2, \n",
    "                    cbar=False, yticklabels=np.array(agent_names)[id_sort],  \n",
    "                    xticklabels=np.array(agent_names)[id_sort],fmt='')\n",
    "\n",
    "\n",
    "# Drawing the frame\n",
    "for _, spine in res.spines.items():\n",
    "    spine.set_visible(True)\n",
    "    spine.set_linewidth(1)\n",
    "\n",
    "\n",
    "Z = [comp.eval_values[comp.agent_names[i]] for i  in id_sort]\n",
    "# Set up the matplotlib figure\n",
    "\n",
    "\n",
    "pos = np.arange(len(Z))\n",
    "\n",
    "\n",
    "\n",
    "sns.set_style(\"whitegrid\")\n",
    "sns.violinplot(data=Z, palette=\"Pastel1\", bw = .2, linewidth=1.5, scale=\"width\", ax = ax3)\n",
    "# sns.violinplot(data=Z, palette=\"Set3\", bw = .2, linewidth=1, scale=\"width\", ax = ax3)\n",
    "# sns.violinplot(data=Z, palette=\"Set3\", bw=.2, linewidth=1, scale=\"width\")\n",
    "\n",
    "\n",
    "ax3.xaxis.set_label([])\n",
    "# ax3.xaxis.tick_top()\n",
    "ax3.set_xticks(pos)\n",
    "ax3.set_xticklabels(np.array(agent_names)[id_sort])\n",
    "# sns.despine(left=True, bottom=True)\n",
    "\n",
    "# ax1.set_title(\"Case 1 and 2. Rejection frequency of null hypothesis according to $\\Delta$.\")\n",
    "# ax2.set_title(\"Case 3. AdaStop decisions\")\n",
    "# ax3.set_title(\"Case 3. Empirical distributions\")\n",
    "\n",
    "\n",
    "# plt.savefig(os.path.join(workdir, \"gaussianVSmg_exp1-2.png\"))\n",
    "plt.savefig(os.path.join(workdir, \"gaussianVSmg_exp3.pdf\"),bbox_inches='tight')"
   ]
  },
  {
   "cell_type": "code",
   "execution_count": null,
   "metadata": {},
   "outputs": [],
   "source": [
    "links = np.zeros([len(agent_names),len(agent_names)])\n",
    "\n",
    "    decisions = {\n",
    "        'smaller': 0,\n",
    "        'equal': 1,\n",
    "        'larger': 2,\n",
    "        'na': 4,\n",
    "    }\n",
    "    for i in range(len(comp.comparisons)):\n",
    "        c = comp.comparisons[i]\n",
    "        decision = comp.decisions[str(c)]\n",
    "        if decision == \"equal\":\n",
    "            links[c[0],c[1]] = decisions['equal']\n",
    "            links[c[1],c[0]] = decisions['equal']\n",
    "        elif decision == \"larger\":\n",
    "            links[c[0],c[1]] = decisions['larger']\n",
    "            links[c[1],c[0]] = decisions['smaller']\n",
    "        else:\n",
    "            links[c[0],c[1]] = decisions['smaller']\n",
    "            links[c[1],c[0]] = decisions['larger']\n",
    "    print(links)\n",
    "\n",
    "\n",
    "    #links = links - links.T\n",
    "    links = links[id_sort,:][:, id_sort]\n",
    "    links = links + decisions['na'] * np.eye(len(links))\n",
    "    annot = []\n",
    "    for i in range(len(links)):\n",
    "        annot_i = []\n",
    "        for j in range(len(links)):\n",
    "            if i == j:\n",
    "                annot_i.append(\" \")                    \n",
    "            elif links[i,j] == decisions['equal']:\n",
    "                annot_i.append(\"${\\\\rightarrow  =}\\downarrow$\")\n",
    "            elif links[i,j] == decisions['larger']:\n",
    "                annot_i.append(\"${\\\\rightarrow \\geq}\\downarrow$\")\n",
    "            else:\n",
    "                annot_i.append(\"${\\\\rightarrow \\leq}\\downarrow$\")\n",
    "        annot += [annot_i]\n",
    "    \n",
    "    \n",
    "    (ax1, ax2) = axs\n",
    "\n",
    "    n_iterations = [comp.n_iters[comp.agent_names[i]] for i in id_sort]\n",
    "    the_table = ax1.table(\n",
    "        cellText=[n_iterations], loc=\"top\", cellLoc=\"center\", rowLabels=[\"n_iter\"], \n",
    "    )\n",
    "    the_table.auto_set_font_size(False)\n",
    "    the_table.set_fontsize(12)\n",
    "\n",
    "    # # Generate a custom colormap\n",
    "    # colors = np.array([(103,169,207), (153,153,153), (239,138,98), (255,255,255)])/256\n",
    "    # cmap = LinearSegmentedColormap.from_list(\"my_cmap\", colors, N=4)\n",
    "    from matplotlib.colors import ListedColormap\n",
    "    colors = mpl.colormaps['Pastel1'].colors\n",
    "    colors = [colors[0], 'lightgray', colors[1], 'white']\n",
    "    cmap = ListedColormap(colors, name=\"my_cmap\")\n",
    "\n",
    "    # Draw the heatmap with the mask and correct aspect ratio\n",
    "    res = sns.heatmap(links, annot=annot, cmap=cmap, # vmin=-1, vmax=2, center=0, \n",
    "        linewidths=.5, cbar=False, yticklabels=np.array(agent_names)[id_sort],\n",
    "        xticklabels=['']*len(agent_names), fmt='', ax=ax1)"
   ]
  },
  {
   "cell_type": "code",
   "execution_count": null,
   "metadata": {},
   "outputs": [],
   "source": []
  },
  {
   "cell_type": "markdown",
   "metadata": {},
   "source": []
  }
 ],
 "metadata": {
  "kernelspec": {
   "display_name": "Python 3",
   "language": "python",
   "name": "python3"
  },
  "language_info": {
   "codemirror_mode": {
    "name": "ipython",
    "version": 3
   },
   "file_extension": ".py",
   "mimetype": "text/x-python",
   "name": "python",
   "nbconvert_exporter": "python",
   "pygments_lexer": "ipython3",
   "version": "3.8.13"
  },
  "orig_nbformat": 4,
  "vscode": {
   "interpreter": {
    "hash": "12e6cafa7dd654bdea37bf1ee7c8b836750ff6fa053165e4c6161a98cdfa653e"
   }
  }
 },
 "nbformat": 4,
 "nbformat_minor": 2
}
