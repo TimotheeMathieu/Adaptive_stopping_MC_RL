{
 "cells": [
  {
   "cell_type": "code",
   "execution_count": 1,
   "metadata": {},
   "outputs": [
    {
     "name": "stdout",
     "output_type": "stream",
     "text": [
      "/home/ashilova/Adaptive_stopping_MC_RL/adastop/example_simulatedR\n"
     ]
    }
   ],
   "source": [
    "import pandas as pd\n",
    "import matplotlib.pyplot as plt\n",
    "import os \n",
    "import numpy as np\n",
    "print(os.getcwd())\n",
    "from json import load\n",
    "import pickle"
   ]
  },
  {
   "cell_type": "code",
   "execution_count": 2,
   "metadata": {},
   "outputs": [],
   "source": [
    "# path_res = \"./mgres\"\n",
    "path_res = \"/home/rdellave/Adaptive_stopping_MC_RL/adastop/example_simulatedR/mgres\""
   ]
  },
  {
   "cell_type": "code",
   "execution_count": 3,
   "metadata": {},
   "outputs": [
    {
     "name": "stderr",
     "output_type": "stream",
     "text": [
      "/home/ashilova/miniconda3/envs/rlberry/lib/python3.8/site-packages/gym/envs/registration.py:423: UserWarning: \u001b[33mWARN: Custom namespace `MinAtar` is being overridden by namespace `MinAtar`. If you are developing a plugin you shouldn't specify a namespace in `register` calls. The namespace is specified through the entry point package metadata.\u001b[0m\n",
      "  logger.warn(\n",
      "/home/ashilova/miniconda3/envs/rlberry/lib/python3.8/site-packages/tqdm/auto.py:22: TqdmWarning: IProgress not found. Please update jupyter and ipywidgets. See https://ipywidgets.readthedocs.io/en/stable/user_install.html\n",
      "  from .autonotebook import tqdm as notebook_tqdm\n",
      "/home/ashilova/miniconda3/envs/rlberry/lib/python3.8/site-packages/past/builtins/misc.py:45: DeprecationWarning: the imp module is deprecated in favour of importlib; see the module's documentation for alternative uses\n",
      "  from imp import reload\n",
      "/home/ashilova/miniconda3/envs/rlberry/lib/python3.8/site-packages/seaborn/rcmod.py:82: DeprecationWarning: distutils Version classes are deprecated. Use packaging.version instead.\n",
      "  if LooseVersion(mpl.__version__) >= \"3.0\":\n",
      "/home/ashilova/miniconda3/envs/rlberry/lib/python3.8/site-packages/setuptools/_distutils/version.py:346: DeprecationWarning: distutils Version classes are deprecated. Use packaging.version instead.\n",
      "  other = LooseVersion(other)\n"
     ]
    }
   ],
   "source": [
    "li = os.listdir(path_res)\n",
    "n_iters = {}\n",
    "decs = {}\n",
    "for elem in li:\n",
    "    elem_path = os.path.join(path_res, elem)\n",
    "    with open(elem_path,\"rb\") as f:\n",
    "        params, comp = pickle.load(f)\n",
    "    dmu = params[\"diff_means\"]\n",
    "\n",
    "    if dmu in n_iters.keys():\n",
    "        n_iters[dmu].append(comp[\"n_iter\"] / 2)\n",
    "    else:\n",
    "        n_iters[dmu] = [comp[\"n_iter\"]/2]\n",
    "\n",
    "    if dmu in decs.keys():\n",
    "        decs[dmu].append(comp[\"decision\"])\n",
    "    else:\n",
    "        decs[dmu] = [comp[\"decision\"]]\n"
   ]
  },
  {
   "attachments": {},
   "cell_type": "markdown",
   "metadata": {},
   "source": [
    "Note that in the following we plot 3 stds to cover 99% confidence interval"
   ]
  },
  {
   "cell_type": "code",
   "execution_count": 4,
   "metadata": {},
   "outputs": [
    {
     "name": "stdout",
     "output_type": "stream",
     "text": [
      "100.0\n"
     ]
    }
   ],
   "source": [
    "power = {}\n",
    "power_std = {}\n",
    "power_confidence_interval = {}\n",
    "n_iter_avg = {}\n",
    "sqrt_n = np.sqrt(len(decs[0]))\n",
    "print(sqrt_n)\n",
    "\n",
    "for dmu in decs.keys():\n",
    "    p = np.array(decs[dmu]) == \"reject\"\n",
    "    power[dmu] = np.mean(p)\n",
    "    power_std[dmu] = np.std(p)\n",
    "    power_confidence_interval[dmu] = np.std(p)/sqrt_n*3\n",
    "for k in n_iters.keys():\n",
    "    n_iter_avg[k] = np.mean(n_iters[k])\n",
    "\n",
    "powers, power_stds, power_confidence_intervals = dict(sorted(power.items())),  dict(sorted(power_std.items())), dict(sorted(power_confidence_interval.items())) "
   ]
  },
  {
   "cell_type": "code",
   "execution_count": 5,
   "metadata": {},
   "outputs": [
    {
     "data": {
      "image/png": "[encoded data removed]",
      "text/plain": [
       "<Figure size 432x288 with 1 Axes>"
      ]
     },
     "metadata": {
      "needs_background": "light"
     },
     "output_type": "display_data"
    }
   ],
   "source": [
    "import sys\n",
    "import os\n",
    "home_folder = os.environ[\"HOME\"]\n",
    "workdir = os.path.join(home_folder,\"Adaptive_stopping_MC_RL\",\"adastop\", \"example_simulatedR\")\n",
    "sys.path.insert(0, workdir)\n",
    "\n",
    "plt.axhline(y = 0.05, color = 'r', linestyle = '--')\n",
    "# plt.axhline(y = 1, color = 'r', linestyle = '-')\n",
    "# plt.axhline(y = 0., color = 'r', linestyle = '-')\n",
    "plt.ylim((0,1))\n",
    "plt.yticks(np.append(np.linspace(0,1,6),0.05))\n",
    "# plt.errorbar(powers.keys(), powers.values(), list(power_stds.values()), linestyle='None', marker= 'o', capsize=3)\n",
    "plt.errorbar(powers.keys(), powers.values(), list(power_confidence_intervals.values()), linestyle='None', fmt = \"none\", capsize=3)\n",
    "plt.ylabel(\"frequency of rejection\")\n",
    "plt.xlabel(\"mean of second mixture component\")\n",
    "\n",
    "plt.savefig(os.path.join(workdir, \"gaussianVSmg.png\"))\n",
    "plt.savefig(os.path.join(workdir, \"gaussianVSmg.pdf\"))\n",
    "\n",
    "\n"
   ]
  },
  {
   "cell_type": "code",
   "execution_count": null,
   "metadata": {},
   "outputs": [],
   "source": []
  }
 ],
 "metadata": {
  "kernelspec": {
   "display_name": "Python 3",
   "language": "python",
   "name": "python3"
  },
  "language_info": {
   "codemirror_mode": {
    "name": "ipython",
    "version": 3
   },
   "file_extension": ".py",
   "mimetype": "text/x-python",
   "name": "python",
   "nbconvert_exporter": "python",
   "pygments_lexer": "ipython3",
   "version": "3.8.13"
  },
  "orig_nbformat": 4,
  "vscode": {
   "interpreter": {
    "hash": "12e6cafa7dd654bdea37bf1ee7c8b836750ff6fa053165e4c6161a98cdfa653e"
   }
  }
 },
 "nbformat": 4,
 "nbformat_minor": 2
}
