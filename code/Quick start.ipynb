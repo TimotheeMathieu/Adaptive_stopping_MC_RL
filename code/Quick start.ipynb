{
 "cells": [
  {
   "cell_type": "markdown",
   "id": "64b53ab0-99e8-40e8-ad2c-f84723696884",
   "metadata": {},
   "source": [
    "# Adaptive stopping in a Bandit problem"
   ]
  },
  {
   "cell_type": "code",
   "execution_count": 1,
   "id": "254a3413-ec29-4e2b-83a9-2e0177582449",
   "metadata": {},
   "outputs": [],
   "source": [
    "import numpy as np\n",
    "import matplotlib.pyplot as plt\n",
    "\n",
    "from compare_agents import MultipleAgentsComparator, Two_AgentsComparator\n",
    "\n",
    "from rlberry.agents.torch import DQNAgent, PPOAgent, A2CAgent\n",
    "from rlberry.agents import RSUCBVIAgent\n",
    "import pandas as pd\n",
    "\n",
    "from rlberry.envs.bandits import BernoulliBandit\n",
    "from rlberry.wrappers import WriterWrapper\n",
    "from rlberry.agents.bandits import (\n",
    "    IndexAgent,\n",
    "    RandomizedAgent,\n",
    "    makeBoundedIMEDIndex,\n",
    "    makeBoundedMOSSIndex,\n",
    "    makeBoundedNPTSIndex,\n",
    "    makeBoundedUCBIndex,\n",
    ")\n",
    "\n"
   ]
  },
  {
   "cell_type": "markdown",
   "id": "64e8ffef-f39e-40fc-9ecc-7b3f1c191dde",
   "metadata": {},
   "source": [
    "We wish to reproduce the results in https://rlberry.readthedocs.io/en/latest/auto_examples/demo_bandits/plot_compare_index_bandits.html#sphx-glr-auto-examples-demo-bandits-plot-compare-index-bandits-py\n"
   ]
  },
  {
   "cell_type": "markdown",
   "id": "c110ecb9-a0f8-4e15-986b-3942fb7b72d6",
   "metadata": {},
   "source": [
    "## Problem setting"
   ]
  },
  {
   "cell_type": "code",
   "execution_count": 2,
   "id": "cc54b6bb-277b-49be-b629-93593f983739",
   "metadata": {},
   "outputs": [],
   "source": [
    "# Parameters of the problem\n",
    "means = np.array([0.6, 0.6, 0.6, 0.9])  # means of the arms\n",
    "A = len(means)\n",
    "T = 2000  # Horizon\n",
    "M = 10  # number of MC simu\n",
    "\n",
    "# Construction of the experiment\n",
    "\n",
    "env_ctor = BernoulliBandit\n",
    "env_kwargs = {\"p\": means}\n",
    "\n",
    "\n",
    "class UCBAgent(IndexAgent):\n",
    "    name = \"UCB\"\n",
    "\n",
    "    def __init__(self, env, **kwargs):\n",
    "        index, _ = makeBoundedUCBIndex()\n",
    "        IndexAgent.__init__(self, env, index, **kwargs)\n",
    "        self.env = WriterWrapper(\n",
    "            self.env, self.writer, write_scalar=\"reward\"\n",
    "        )\n",
    "        \n",
    "class MOSSAgent(IndexAgent):\n",
    "    name = \"MOSS\"\n",
    "\n",
    "    def __init__(self, env, **kwargs):\n",
    "        index, _ = makeBoundedMOSSIndex(T, A)\n",
    "        IndexAgent.__init__(self, env, index, **kwargs)\n",
    "        self.env = WriterWrapper(\n",
    "            self.env, self.writer, write_scalar=\"action_and_reward\"\n",
    "        )\n",
    "\n",
    "\n",
    "class IMEDAgent(IndexAgent):\n",
    "    name = \"IMED\"\n",
    "\n",
    "    def __init__(self, env, **kwargs):\n",
    "        index, tracker_params = makeBoundedIMEDIndex()\n",
    "        IndexAgent.__init__(self, env, index, tracker_params=tracker_params, **kwargs)\n",
    "        self.env = WriterWrapper(\n",
    "            self.env, self.writer, write_scalar=\"reward\"\n",
    "        )\n",
    "\n",
    "class NPTSAgent(IndexAgent):\n",
    "    name = \"NPTS\"\n",
    "\n",
    "    def __init__(self, env, **kwargs):\n",
    "        index, tracker_params = makeBoundedNPTSIndex()\n",
    "        IndexAgent.__init__(self, env, index, tracker_params=tracker_params, **kwargs)\n",
    "        self.env = WriterWrapper(\n",
    "            self.env, self.writer, write_scalar=\"reward\"\n",
    "        )\n",
    "\n",
    "\n",
    "Agents_class = [\n",
    "    MOSSAgent,\n",
    "    IMEDAgent,\n",
    "    NPTSAgent,\n",
    "    UCBAgent,\n",
    "]\n",
    "\n",
    "managers = [\n",
    "    (Agent,\n",
    "        dict(\n",
    "        train_env=(env_ctor, env_kwargs),\n",
    "        fit_budget=T,\n",
    "        parallelization=\"process\",\n",
    "        mp_context=\"fork\")\n",
    "    )\n",
    "    for Agent in Agents_class\n",
    "]\n"
   ]
  },
  {
   "cell_type": "markdown",
   "id": "92802c6d-df0a-4dff-bb8d-b828df82446e",
   "metadata": {},
   "source": [
    "## Adastop algorithm"
   ]
  },
  {
   "cell_type": "code",
   "execution_count": 3,
   "id": "3f442840-1bc3-41fc-aa65-d2f5a1788e14",
   "metadata": {},
   "outputs": [],
   "source": [
    "# we want to be able to see a difference of 5 and the std is around 10\n",
    "n = 10\n",
    "K = 10\n",
    "B=100000\n",
    "alpha = 0.05"
   ]
  },
  {
   "cell_type": "code",
   "execution_count": 8,
   "id": "ca26cf10-8efc-46f1-bf16-719226806f38",
   "metadata": {},
   "outputs": [
    {
     "name": "stdout",
     "output_type": "stream",
     "text": [
      "With these parameters, we have a maximum of 100 fits done for each agent\n",
      "Number of comparisons is 6.0\n"
     ]
    }
   ],
   "source": [
    "\n",
    "n_managers = len(managers)\n",
    "print('With these parameters, we have a maximum of {} fits done for each agent'.format(n*K))\n",
    "print('Number of comparisons is {}'.format(n_managers*(n_managers-1)/2))"
   ]
  },
  {
   "cell_type": "markdown",
   "id": "b49d7997-f185-4783-8587-c02745cdb3cb",
   "metadata": {},
   "source": [
    "let us now compare all the different algorithm"
   ]
  },
  {
   "cell_type": "code",
   "execution_count": 9,
   "id": "41961fa4-8ee8-450d-8863-48f29affe506",
   "metadata": {
    "scrolled": true,
    "tags": []
   },
   "outputs": [],
   "source": [
    "from rlberry.utils.logging import set_level\n",
    "set_level('ERROR')"
   ]
  },
  {
   "cell_type": "code",
   "execution_count": 10,
   "id": "57995129-0d68-4b8e-a21b-b434df3eb3c1",
   "metadata": {},
   "outputs": [],
   "source": [
    "class Comparator(MultipleAgentsComparator):\n",
    "    def __init__(self, **kwargs):\n",
    "        MultipleAgentsComparator.__init__(self, **kwargs)\n",
    "        \n",
    "    def _get_evals(self, manager):\n",
    "        \"\"\"\n",
    "        Compute the cumulative reward.\n",
    "        \"\"\"\n",
    "        eval_values = []\n",
    "        for idx in  manager.get_writer_data():\n",
    "            df = manager.get_writer_data()[idx]\n",
    "            eval_values.append(-np.sum(np.max(means)-df.loc[df['tag']=='reward', 'value']))\n",
    "        return eval_values"
   ]
  },
  {
   "cell_type": "code",
   "execution_count": 11,
   "id": "24bf254e-bc94-4d9c-aa58-e3ac7ea53a4b",
   "metadata": {},
   "outputs": [
    {
     "name": "stdout",
     "output_type": "stream",
     "text": [
      "Step 0\n",
      "Step 1\n",
      "Step 2\n",
      "Step 3\n",
      "Step 4\n",
      "Step 5\n",
      "Step 6\n",
      "Step 7\n",
      "Step 8\n",
      "Step 9\n",
      "['reject' 'reject' 'reject' 'accept' 'reject' 'reject'] [[0 1]\n",
      " [0 2]\n",
      " [0 3]\n",
      " [1 2]\n",
      " [1 3]\n",
      " [2 3]] [array([1, 3]), array([0, 1]), array([2, 3]), array([0, 3]), array([0, 2])]\n"
     ]
    }
   ],
   "source": [
    "comparator  = Comparator(n=n, K=K, B=B, alpha=alpha, n_evaluations = 100)\n",
    "\n",
    "comparator.compare(managers)\n",
    "\n",
    "print(comparator.decisions,\n",
    "      comparator.comparisons,\n",
    "      comparator.rejected_decision)"
   ]
  },
  {
   "cell_type": "markdown",
   "id": "a911dceb-e0d3-45a0-bb49-92021bb4a0c5",
   "metadata": {},
   "source": [
    "We reject the comparisons (1,3), (0,1), (0,2) and (0,3). Let us check graphically that this makes sense"
   ]
  },
  {
   "cell_type": "code",
   "execution_count": 12,
   "id": "701b3d5e-c6a6-4765-a433-11aa8c6fa0f3",
   "metadata": {},
   "outputs": [
    {
     "data": {
      "image/png": "[encoded data removed]",
      "text/plain": [
       "<Figure size 432x288 with 1 Axes>"
      ]
     },
     "metadata": {
      "needs_background": "light"
     },
     "output_type": "display_data"
    }
   ],
   "source": [
    "plt.boxplot(comparator.eval_values, labels=['MOSS', 'IMED', 'NPTS', 'UCB'])\n",
    "plt.show()"
   ]
  },
  {
   "cell_type": "code",
   "execution_count": 13,
   "id": "cff6b641-f43e-4d57-8a00-e34f7a26799d",
   "metadata": {},
   "outputs": [
    {
     "name": "stdout",
     "output_type": "stream",
     "text": [
      "[-25.342857142855195, -15.189999999999452, -17.149999999999284, -37.99999999999787]\n"
     ]
    }
   ],
   "source": [
    "print(comparator.mean_eval_values)"
   ]
  },
  {
   "cell_type": "markdown",
   "id": "4db68018-404b-4c34-b996-113f97cc0334",
   "metadata": {},
   "source": [
    "The rejected comparisons are the comparisons with the last algo (UCB) and MOSS."
   ]
  },
  {
   "cell_type": "code",
   "execution_count": 14,
   "id": "3a0b2d00-4ea7-4536-bac6-27e5dfaa9d03",
   "metadata": {},
   "outputs": [
    {
     "name": "stdout",
     "output_type": "stream",
     "text": [
      "[70, 100, 100, 50]\n"
     ]
    }
   ],
   "source": [
    "print(comparator.n_iters)"
   ]
  },
  {
   "cell_type": "code",
   "execution_count": null,
   "id": "174515ba-b683-4c9a-bcc1-be8eabf7f198",
   "metadata": {},
   "outputs": [],
   "source": []
  }
 ],
 "metadata": {
  "kernelspec": {
   "display_name": "Python 3 (ipykernel)",
   "language": "python",
   "name": "python3"
  },
  "language_info": {
   "codemirror_mode": {
    "name": "ipython",
    "version": 3
   },
   "file_extension": ".py",
   "mimetype": "text/x-python",
   "name": "python",
   "nbconvert_exporter": "python",
   "pygments_lexer": "ipython3",
   "version": "3.10.7"
  }
 },
 "nbformat": 4,
 "nbformat_minor": 5
}
