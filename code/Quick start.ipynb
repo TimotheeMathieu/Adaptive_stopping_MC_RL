{
 "cells": [
  {
   "cell_type": "markdown",
   "id": "64b53ab0-99e8-40e8-ad2c-f84723696884",
   "metadata": {},
   "source": [
    "# Adaptive stopping in a Bandit problem"
   ]
  },
  {
   "cell_type": "code",
   "execution_count": 1,
   "id": "254a3413-ec29-4e2b-83a9-2e0177582449",
   "metadata": {},
   "outputs": [],
   "source": [
    "import numpy as np\n",
    "import matplotlib.pyplot as plt\n",
    "\n",
    "from compare_agents import MultipleAgentsComparator\n",
    "\n",
    "from rlberry.agents.torch import DQNAgent, PPOAgent, A2CAgent\n",
    "from rlberry.agents import RSUCBVIAgent\n",
    "import pandas as pd\n",
    "\n",
    "from rlberry.envs.bandits import BernoulliBandit\n",
    "from rlberry.wrappers import WriterWrapper\n",
    "from rlberry.agents.bandits import (\n",
    "    IndexAgent,\n",
    "    RandomizedAgent,\n",
    "    makeBoundedIMEDIndex,\n",
    "    makeBoundedMOSSIndex,\n",
    "    makeBoundedNPTSIndex,\n",
    "    makeBoundedUCBIndex,\n",
    "    makeETCIndex,\n",
    ")\n",
    "\n"
   ]
  },
  {
   "cell_type": "markdown",
   "id": "64e8ffef-f39e-40fc-9ecc-7b3f1c191dde",
   "metadata": {},
   "source": [
    "We wish to reproduce the results in https://rlberry.readthedocs.io/en/latest/auto_examples/demo_bandits/plot_compare_index_bandits.html#sphx-glr-auto-examples-demo-bandits-plot-compare-index-bandits-py\n"
   ]
  },
  {
   "cell_type": "markdown",
   "id": "c110ecb9-a0f8-4e15-986b-3942fb7b72d6",
   "metadata": {},
   "source": [
    "## Problem setting"
   ]
  },
  {
   "cell_type": "code",
   "execution_count": 2,
   "id": "cc54b6bb-277b-49be-b629-93593f983739",
   "metadata": {},
   "outputs": [],
   "source": [
    "# Parameters of the problem\n",
    "means = np.array([0.6, 0.6, 0.6, 0.9])  # means of the arms\n",
    "A = len(means)\n",
    "T = 2000  # Horizon\n",
    "\n",
    "# Construction of the experiment\n",
    "\n",
    "env_ctor = BernoulliBandit\n",
    "env_kwargs = {\"p\": means}\n",
    "\n",
    "\n",
    "class UCBAgent(IndexAgent):\n",
    "    name = \"UCB\"\n",
    "\n",
    "    def __init__(self, env, **kwargs):\n",
    "        index, _ = makeBoundedUCBIndex()\n",
    "        IndexAgent.__init__(self, env, index, **kwargs)\n",
    "        self.env = WriterWrapper(\n",
    "            self.env, self.writer, write_scalar=\"reward\"\n",
    "        )\n",
    "    \n",
    "\n",
    "\n",
    "class ETCAgent(IndexAgent):\n",
    "    name = \"ETC\"\n",
    "\n",
    "    def __init__(self, env, m=20, **kwargs):\n",
    "        index, _ = makeETCIndex(A, m)\n",
    "        IndexAgent.__init__(self, env, index, **kwargs)\n",
    "        self.env = WriterWrapper(\n",
    "            self.env, self.writer, write_scalar=\"action_and_reward\"\n",
    "        )\n",
    "\n",
    "        \n",
    "class MOSSAgent(IndexAgent):\n",
    "    name = \"MOSS\"\n",
    "\n",
    "    def __init__(self, env, **kwargs):\n",
    "        index, _ = makeBoundedMOSSIndex(T, A)\n",
    "        IndexAgent.__init__(self, env, index, **kwargs)\n",
    "        self.env = WriterWrapper(\n",
    "            self.env, self.writer, write_scalar=\"action_and_reward\"\n",
    "        )\n",
    "\n",
    "\n",
    "class IMEDAgent(IndexAgent):\n",
    "    name = \"IMED\"\n",
    "\n",
    "    def __init__(self, env, **kwargs):\n",
    "        index, tracker_params = makeBoundedIMEDIndex()\n",
    "        IndexAgent.__init__(self, env, index, tracker_params=tracker_params, **kwargs)\n",
    "        self.env = WriterWrapper(\n",
    "            self.env, self.writer, write_scalar=\"reward\"\n",
    "        )\n",
    "\n",
    "class NPTSAgent(IndexAgent):\n",
    "    name = \"NPTS\"\n",
    "\n",
    "    def __init__(self, env, **kwargs):\n",
    "        index, tracker_params = makeBoundedNPTSIndex()\n",
    "        IndexAgent.__init__(self, env, index, tracker_params=tracker_params, **kwargs)\n",
    "        self.env = WriterWrapper(\n",
    "            self.env, self.writer, write_scalar=\"reward\"\n",
    "        )\n",
    "\n",
    "\n",
    "Agents_class = [\n",
    "    MOSSAgent,\n",
    "    IMEDAgent,\n",
    "    NPTSAgent,\n",
    "    UCBAgent,\n",
    "    ETCAgent\n",
    "]\n",
    "\n",
    "managers = [\n",
    "    (Agent,\n",
    "        dict(\n",
    "        train_env=(env_ctor, env_kwargs),\n",
    "        fit_budget=T,\n",
    "        parallelization=\"process\",\n",
    "        mp_context=\"fork\")\n",
    "    )\n",
    "    for Agent in Agents_class\n",
    "]\n"
   ]
  },
  {
   "cell_type": "markdown",
   "id": "92802c6d-df0a-4dff-bb8d-b828df82446e",
   "metadata": {},
   "source": [
    "## Adastop algorithm"
   ]
  },
  {
   "cell_type": "code",
   "execution_count": 3,
   "id": "3f442840-1bc3-41fc-aa65-d2f5a1788e14",
   "metadata": {},
   "outputs": [],
   "source": [
    "# we want to be able to see a difference of 5 and the std is around 10\n",
    "n = 10\n",
    "K = 10\n",
    "B=10000\n",
    "alpha = 0.05"
   ]
  },
  {
   "cell_type": "code",
   "execution_count": 4,
   "id": "ca26cf10-8efc-46f1-bf16-719226806f38",
   "metadata": {},
   "outputs": [
    {
     "name": "stdout",
     "output_type": "stream",
     "text": [
      "With these parameters, we have a maximum of 100 fits done for each agent\n",
      "Number of comparisons is 10.0\n"
     ]
    }
   ],
   "source": [
    "\n",
    "n_managers = len(managers)\n",
    "print('With these parameters, we have a maximum of {} fits done for each agent'.format(n*K))\n",
    "print('Number of comparisons is {}'.format(n_managers*(n_managers-1)/2))"
   ]
  },
  {
   "cell_type": "markdown",
   "id": "b49d7997-f185-4783-8587-c02745cdb3cb",
   "metadata": {},
   "source": [
    "let us now compare all the different algorithm"
   ]
  },
  {
   "cell_type": "code",
   "execution_count": 5,
   "id": "41961fa4-8ee8-450d-8863-48f29affe506",
   "metadata": {
    "scrolled": true,
    "tags": []
   },
   "outputs": [],
   "source": [
    "from rlberry.utils.logging import set_level\n",
    "set_level('ERROR')"
   ]
  },
  {
   "cell_type": "code",
   "execution_count": 6,
   "id": "57995129-0d68-4b8e-a21b-b434df3eb3c1",
   "metadata": {},
   "outputs": [],
   "source": [
    "class Comparator(MultipleAgentsComparator):\n",
    "    def __init__(self, **kwargs):\n",
    "        MultipleAgentsComparator.__init__(self, **kwargs)\n",
    "        \n",
    "    def _get_evals(self, manager):\n",
    "        \"\"\"\n",
    "        Compute the cumulative reward.\n",
    "        \"\"\"\n",
    "        eval_values = []\n",
    "        for idx in  manager.get_writer_data():\n",
    "            df = manager.get_writer_data()[idx]\n",
    "            eval_values.append(np.sum(np.max(means)-df.loc[df['tag']=='reward', 'value']))\n",
    "        return eval_values"
   ]
  },
  {
   "cell_type": "code",
   "execution_count": 7,
   "id": "24bf254e-bc94-4d9c-aa58-e3ac7ea53a4b",
   "metadata": {},
   "outputs": [
    {
     "name": "stdout",
     "output_type": "stream",
     "text": [
      "Step 0\n",
      "reject\n",
      "reject\n",
      "Step 1\n",
      "reject\n",
      "Step 2\n",
      "reject\n",
      "reject\n",
      "reject\n",
      "reject\n",
      "Step 3\n",
      "Step 4\n",
      "Step 5\n",
      "Step 6\n",
      "Step 7\n",
      "Step 8\n",
      "Step 9\n",
      "{'[0 1]': 'larger', '[0 2]': 'larger', '[0 3]': 'smaller', '[0 4]': 'larger', '[1 2]': 'equal', '[1 3]': 'smaller', '[1 4]': 'equal', '[2 3]': 'smaller', '[2 4]': 'equal', '[3 4]': 'larger'}\n",
      "{'Agent 0': 30, 'Agent 1': 100, 'Agent 2': 30, 'Agent 3': 30, 'Agent 4': 100}\n"
     ]
    }
   ],
   "source": [
    "comparator  = Comparator(n=n, K=K, B=B, alpha=alpha, n_evaluations = 10, beta=0.01)\n",
    "\n",
    "comparator.compare(managers)\n",
    "\n",
    "print(comparator.decisions)\n",
    "print(comparator.n_iters)"
   ]
  },
  {
   "cell_type": "code",
   "execution_count": 12,
   "id": "f32a55c4",
   "metadata": {},
   "outputs": [
    {
     "data": {
      "text/plain": [
       "{'Agent 0': 30, 'Agent 1': 100, 'Agent 2': 30, 'Agent 3': 30, 'Agent 4': 100}"
      ]
     },
     "execution_count": 12,
     "metadata": {},
     "output_type": "execute_result"
    }
   ],
   "source": [
    "comparator.n_iters"
   ]
  },
  {
   "cell_type": "markdown",
   "id": "a911dceb-e0d3-45a0-bb49-92021bb4a0c5",
   "metadata": {},
   "source": [
    "We reject the comparisons (1,3), (0,1), (0,2) , (2,3) and (0,3). Let us check graphically that this makes sense"
   ]
  },
  {
   "cell_type": "code",
   "execution_count": 8,
   "id": "856cc13b-be04-466f-9985-5695e5fefefd",
   "metadata": {},
   "outputs": [
    {
     "data": {
      "text/plain": [
       "[array([39., 17.,  5., 33., 36., 47., 29., 13., 42., 38., 23., 13., 13.,\n",
       "        28., 19., 10., 24., 53., 45., 51., 23., 31., 18., 32., 18., 38.,\n",
       "        29., 65., 24., 32.]),\n",
       " array([ 3.50000000e+01,  7.00000000e+00,  2.00000000e+00,  3.00000000e+00,\n",
       "         2.00000000e+01,  2.00000000e+01,  3.90000000e+01,  3.50000000e+01,\n",
       "        -2.20000000e+01,  3.90000000e+01,  1.00000000e+01,  5.10000000e+01,\n",
       "         2.80000000e+01,  1.70000000e+01,  3.60000000e+01,  3.30000000e+01,\n",
       "         2.10000000e+01,  6.00000000e+00,  1.00000000e+01, -5.00000000e+00,\n",
       "         1.00000000e+00,  7.00000000e+00,  1.30000000e+01,  1.40000000e+01,\n",
       "         1.10000000e+01,  2.20000000e+01,  2.00000000e+00,  3.10000000e+01,\n",
       "         3.00000000e+00,  2.60000000e+01,  3.40000000e+01,  2.70000000e+01,\n",
       "         3.30000000e+01,  5.00000000e+00,  1.80000000e+01,  1.20000000e+01,\n",
       "         2.70000000e+01,  2.60000000e+01,  1.50000000e+01,  4.10000000e+01,\n",
       "         2.40000000e+01,  3.50000000e+01,  3.00000000e+00,  3.90000000e+01,\n",
       "         1.60000000e+01,  1.80000000e+01, -8.00000000e+00,  1.00000000e+01,\n",
       "         2.90000000e+01,  2.80000000e+01,  2.10000000e+01,  1.80000000e+01,\n",
       "         1.20000000e+01, -9.00000000e+00, -4.00000000e+00,  2.00000000e+01,\n",
       "         1.21458399e-13,  3.20000000e+01,  8.00000000e+00,  2.60000000e+01,\n",
       "        -4.00000000e+00,  2.30000000e+01,  1.40000000e+01,  1.00000000e+01,\n",
       "         9.00000000e+00,  3.70000000e+01,  2.00000000e+00,  1.60000000e+01,\n",
       "         2.00000000e+01,  2.50000000e+01, -3.80000000e+01,  1.80000000e+01,\n",
       "         2.90000000e+01,  1.90000000e+01,  8.00000000e+00, -2.00000000e+00,\n",
       "        -3.00000000e+00,  4.80000000e+01, -2.00000000e+00,  1.60000000e+01,\n",
       "         1.00000000e+01,  4.40000000e+01, -3.00000000e+00,  1.40000000e+01,\n",
       "         3.10000000e+01,  1.60000000e+01,  1.50000000e+01,  1.50000000e+01,\n",
       "         1.70000000e+01,  2.90000000e+01,  1.70000000e+01,  1.80000000e+01,\n",
       "         1.80000000e+01,  9.00000000e+00,  1.70000000e+01, -2.20000000e+01,\n",
       "         4.90000000e+01,  1.60000000e+01,  3.00000000e+00,  3.10000000e+01]),\n",
       " array([ 3.60000000e+01,  1.10000000e+01,  2.60000000e+01,  2.10000000e+01,\n",
       "         8.00000000e+00,  3.00000000e+00,  1.80000000e+01,  9.00000000e+00,\n",
       "         2.10000000e+01,  6.00000000e+00,  5.00000000e+00,  1.20348176e-13,\n",
       "         1.80000000e+01,  7.00000000e+00, -1.50000000e+01,  1.20000000e+01,\n",
       "         2.80000000e+01,  2.20000000e+01,  2.30000000e+01,  5.00000000e+00,\n",
       "        -2.80000000e+01,  6.00000000e+00, -6.00000000e+00,  1.70000000e+01,\n",
       "         2.40000000e+01,  1.20000000e+01,  1.50000000e+01,  2.00000000e+01,\n",
       "        -8.00000000e+00, -6.00000000e+00]),\n",
       " array([60., 33., 60., 55., 27., 31., 68., 19., 30., 42., 53., 44., 38.,\n",
       "        19., 63., 64., 27., 62., 37., 48., 32., 41., 28., 37., 31., 60.,\n",
       "        53., 38., 28., 41.]),\n",
       " array([ 1.20000000e+01,  1.30000000e+01,  9.00000000e+00,  2.90000000e+01,\n",
       "         1.30000000e+01,  1.20000000e+01,  2.10000000e+01,  4.00000000e+00,\n",
       "         1.00000000e+01,  1.80000000e+01,  2.00000000e+00,  2.70000000e+01,\n",
       "         1.90000000e+01,  4.00000000e+01,  4.00000000e+00,  3.60000000e+01,\n",
       "         2.00000000e+01,  1.40000000e+01,  1.50000000e+01,  1.20000000e+01,\n",
       "         5.40000000e+01,  1.50000000e+01,  3.00000000e+01,  2.00000000e+01,\n",
       "         1.50000000e+01,  1.00000000e+00,  3.40000000e+01,  2.30000000e+01,\n",
       "         9.00000000e+00,  2.70000000e+01,  1.10000000e+01,  1.00000000e+01,\n",
       "         2.90000000e+01,  1.90000000e+01,  2.20000000e+01,  9.05941988e-14,\n",
       "         7.00000000e+00,  2.20000000e+01,  2.20000000e+01,  1.00000000e+00,\n",
       "         2.50000000e+01,  2.40000000e+01,  3.00000000e+01,  2.70000000e+01,\n",
       "         3.40000000e+01,  4.80000000e+01,  3.70000000e+01,  2.00000000e+00,\n",
       "         7.00000000e+00,  1.60000000e+01,  9.00000000e+00,  6.00000000e+00,\n",
       "         3.60000000e+01,  1.60000000e+01,  7.00000000e+00,  1.20000000e+01,\n",
       "         2.00000000e+01,  1.60000000e+01,  2.30000000e+01,  3.80000000e+01,\n",
       "         1.00000000e+00,  9.00000000e+00,  3.70000000e+01,  2.70000000e+01,\n",
       "         1.50000000e+01, -2.00000000e+00,  7.00000000e+00,  2.90000000e+01,\n",
       "         1.60000000e+01, -1.00000000e+01,  4.60000000e+01,  9.00000000e+00,\n",
       "         1.10000000e+01,  3.40000000e+01,  9.00000000e+00,  1.30000000e+01,\n",
       "         4.30000000e+01, -8.00000000e+00,  1.80000000e+01, -4.00000000e+00,\n",
       "         1.40000000e+01,  2.90000000e+01,  3.40000000e+01,  4.30000000e+01,\n",
       "         3.00000000e+01,  1.40000000e+01, -9.00000000e+00,  2.90000000e+01,\n",
       "         1.60000000e+01,  1.20000000e+01,  1.60000000e+01,  1.20000000e+01,\n",
       "         4.00000000e+00,  1.10000000e+01,  1.60000000e+01,  2.40000000e+01,\n",
       "         2.00000000e+01, -1.00000000e+00,  1.60000000e+01,  2.30000000e+01])]"
      ]
     },
     "execution_count": 8,
     "metadata": {},
     "output_type": "execute_result"
    }
   ],
   "source": [
    "comparator.eval_values"
   ]
  },
  {
   "cell_type": "code",
   "execution_count": 9,
   "id": "a7feaa7f-2e9c-4a40-8dcc-fcd77faa7086",
   "metadata": {},
   "outputs": [],
   "source": [
    "id_sort = np.argsort(comparator.mean_eval_values)\n",
    "Z = [ comparator.eval_values[f] for f in id_sort]"
   ]
  },
  {
   "cell_type": "code",
   "execution_count": 10,
   "id": "218f02a6-f2b8-4f46-94a5-efc35b7b5ae3",
   "metadata": {},
   "outputs": [
    {
     "data": {
      "image/png": "[encoded data removed]",
      "text/plain": [
       "<Figure size 600x500 with 2 Axes>"
      ]
     },
     "metadata": {},
     "output_type": "display_data"
    }
   ],
   "source": [
    "comparator.plot_results(['MOSS','IMED','NPTS','UCB','ETC'])"
   ]
  },
  {
   "cell_type": "code",
   "execution_count": null,
   "id": "b1d706f6-ae0d-4c09-abb5-a3366a920b6a",
   "metadata": {},
   "outputs": [],
   "source": []
  }
 ],
 "metadata": {
  "kernelspec": {
   "display_name": "Python 3 (ipykernel)",
   "language": "python",
   "name": "python3"
  },
  "language_info": {
   "codemirror_mode": {
    "name": "ipython",
    "version": 3
   },
   "file_extension": ".py",
   "mimetype": "text/x-python",
   "name": "python",
   "nbconvert_exporter": "python",
   "pygments_lexer": "ipython3",
   "version": "3.10.9"
  },
  "toc": {
   "base_numbering": 1,
   "nav_menu": {},
   "number_sections": true,
   "sideBar": true,
   "skip_h1_title": false,
   "title_cell": "Table of Contents",
   "title_sidebar": "Contents",
   "toc_cell": false,
   "toc_position": {},
   "toc_section_display": true,
   "toc_window_display": false
  }
 },
 "nbformat": 4,
 "nbformat_minor": 5
}
